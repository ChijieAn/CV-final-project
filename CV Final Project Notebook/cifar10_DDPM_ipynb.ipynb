{
  "cells": [
    {
      "cell_type": "code",
      "execution_count": 1,
      "metadata": {
        "id": "KD_LYbAmeaU2",
        "colab": {
          "base_uri": "https://localhost:8080/"
        },
        "outputId": "74c97b6f-fbbf-44ce-fa59-40bd1148f8d0"
      },
      "outputs": [
        {
          "output_type": "stream",
          "name": "stdout",
          "text": [
            "Mounted at /content/drive\n"
          ]
        }
      ],
      "source": [
        "import os\n",
        "import math\n",
        "from abc import abstractmethod\n",
        "\n",
        "from PIL import Image\n",
        "import requests\n",
        "import numpy as np\n",
        "import torch\n",
        "import torch.nn as nn\n",
        "import torch.nn.functional as F\n",
        "from torchvision import datasets, transforms\n",
        "from tqdm import tqdm\n",
        "import matplotlib.pyplot as plt\n",
        "\n",
        "from google.colab import drive\n",
        "\n",
        "%matplotlib inline\n",
        "device = 'cuda' if torch.cuda.is_available() else 'cpu'\n",
        "drive.mount('/content/drive')"
      ]
    },
    {
      "cell_type": "code",
      "source": [
        "#load the classifier model\n",
        "import torchvision.models as models\n",
        "classifier=models.resnet50(pretrained=True)\n",
        "classifier.fc=nn.Sequential(\n",
        "    nn.Linear(in_features=2048,out_features=1000,bias=True),\n",
        "    nn.ReLU(inplace=True),\n",
        "    nn.Linear(in_features=1000,out_features=10,bias=True),\n",
        "    #nn.LogSoftmax(dim=1)\n",
        ")\n",
        "model_pth='/content/drive/MyDrive/Classifier_Folder/epoch_8_fine_tuned_resnet50.pth'\n",
        "classifier.load_state_dict(torch.load(model_pth))\n",
        "classifier=classifier.to('cuda')\n",
        "classifier.eval()\n"
      ],
      "metadata": {
        "id": "u_HjPEZjByvR"
      },
      "execution_count": null,
      "outputs": []
    },
    {
      "cell_type": "code",
      "execution_count": 4,
      "metadata": {
        "id": "pFDAUwuCgT4a"
      },
      "outputs": [],
      "source": [
        "# use sinusoidal position embedding to encode time step (https://arxiv.org/abs/1706.03762)\n",
        "def timestep_embedding(timesteps, dim, max_period=10000):\n",
        "    \"\"\"\n",
        "    Create sinusoidal timestep embeddings.\n",
        "    :param timesteps: a 1-D Tensor of N indices, one per batch element.\n",
        "                      These may be fractional.\n",
        "    :param dim: the dimension of the output.\n",
        "    :param max_period: controls the minimum frequency of the embeddings.\n",
        "    :return: an [N x dim] Tensor of positional embeddings.\n",
        "    \"\"\"\n",
        "    half = dim // 2\n",
        "    freqs = torch.exp(\n",
        "        -math.log(max_period) * torch.arange(start=0, end=half, dtype=torch.float32) / half\n",
        "    ).to(device=timesteps.device)\n",
        "    args = timesteps[:, None].float() * freqs[None]\n",
        "    embedding = torch.cat([torch.cos(args), torch.sin(args)], dim=-1)\n",
        "    if dim % 2:\n",
        "        embedding = torch.cat([embedding, torch.zeros_like(embedding[:, :1])], dim=-1)\n",
        "    return embedding"
      ]
    },
    {
      "cell_type": "code",
      "execution_count": 5,
      "metadata": {
        "id": "KP_JOKULglLq"
      },
      "outputs": [],
      "source": [
        "# define TimestepEmbedSequential to support `time_emb` as extra input\n",
        "class TimestepBlock(nn.Module):\n",
        "    \"\"\"\n",
        "    Any module where forward() takes timestep embeddings as a second argument.\n",
        "    \"\"\"\n",
        "\n",
        "    @abstractmethod\n",
        "    def forward(self, x, emb):\n",
        "        \"\"\"\n",
        "        Apply the module to `x` given `emb` timestep embeddings.\n",
        "        \"\"\"\n",
        "\n",
        "\n",
        "class TimestepEmbedSequential(nn.Sequential, TimestepBlock):\n",
        "    \"\"\"\n",
        "    A sequential module that passes timestep embeddings to the children that\n",
        "    support it as an extra input.\n",
        "    \"\"\"\n",
        "\n",
        "    def forward(self, x, emb):\n",
        "        for layer in self:\n",
        "            if isinstance(layer, TimestepBlock):\n",
        "                x = layer(x, emb)\n",
        "            else:\n",
        "                x = layer(x)\n",
        "        return x\n",
        "\n",
        "# use GN for norm layer\n",
        "def norm_layer(channels):\n",
        "    return nn.GroupNorm(32, channels)"
      ]
    },
    {
      "cell_type": "code",
      "execution_count": 6,
      "metadata": {
        "id": "KDo8s5g1hTtX"
      },
      "outputs": [],
      "source": [
        "# Residual block\n",
        "class ResidualBlock(TimestepBlock):\n",
        "    def __init__(self, in_channels, out_channels, time_channels, dropout):\n",
        "        super().__init__()\n",
        "        self.conv1 = nn.Sequential(\n",
        "            norm_layer(in_channels),\n",
        "            nn.SiLU(),\n",
        "            nn.Conv2d(in_channels, out_channels, kernel_size=3, padding=1)\n",
        "        )\n",
        "\n",
        "        # pojection for time step embedding\n",
        "        self.time_emb = nn.Sequential(\n",
        "            nn.SiLU(),\n",
        "            nn.Linear(time_channels, out_channels)\n",
        "        )\n",
        "\n",
        "        self.conv2 = nn.Sequential(\n",
        "            norm_layer(out_channels),\n",
        "            nn.SiLU(),\n",
        "            nn.Dropout(p=dropout),\n",
        "            nn.Conv2d(out_channels, out_channels, kernel_size=3, padding=1)\n",
        "        )\n",
        "\n",
        "        if in_channels != out_channels:\n",
        "            self.shortcut = nn.Conv2d(in_channels, out_channels, kernel_size=1)\n",
        "        else:\n",
        "            self.shortcut = nn.Identity()\n",
        "\n",
        "\n",
        "    def forward(self, x, t):\n",
        "        \"\"\"\n",
        "        `x` has shape `[batch_size, in_dim, height, width]`\n",
        "        `t` has shape `[batch_size, time_dim]`\n",
        "        \"\"\"\n",
        "        h = self.conv1(x)\n",
        "        # Add time step embeddings\n",
        "        h += self.time_emb(t)[:, :, None, None]\n",
        "        h = self.conv2(h)\n",
        "        return h + self.shortcut(x)"
      ]
    },
    {
      "cell_type": "code",
      "execution_count": 7,
      "metadata": {
        "id": "FDkdpHtmhaxc"
      },
      "outputs": [],
      "source": [
        "# Attention block with shortcut\n",
        "class AttentionBlock(nn.Module):\n",
        "    def __init__(self, channels, num_heads=1):\n",
        "        super().__init__()\n",
        "        self.num_heads = num_heads\n",
        "        assert channels % num_heads == 0\n",
        "\n",
        "        self.norm = norm_layer(channels)\n",
        "        self.qkv = nn.Conv2d(channels, channels * 3, kernel_size=1, bias=False)\n",
        "        self.proj = nn.Conv2d(channels, channels, kernel_size=1)\n",
        "\n",
        "    def forward(self, x):\n",
        "        B, C, H, W = x.shape\n",
        "        qkv = self.qkv(self.norm(x))\n",
        "        q, k, v = qkv.reshape(B*self.num_heads, -1, H*W).chunk(3, dim=1)\n",
        "        scale = 1. / math.sqrt(math.sqrt(C // self.num_heads))\n",
        "        attn = torch.einsum(\"bct,bcs->bts\", q * scale, k * scale)\n",
        "        attn = attn.softmax(dim=-1)\n",
        "        h = torch.einsum(\"bts,bcs->bct\", attn, v)\n",
        "        h = h.reshape(B, -1, H, W)\n",
        "        h = self.proj(h)\n",
        "        return h + x"
      ]
    },
    {
      "cell_type": "code",
      "execution_count": 8,
      "metadata": {
        "id": "P5msBiH-hbYW"
      },
      "outputs": [],
      "source": [
        "# upsample\n",
        "class Upsample(nn.Module):\n",
        "    def __init__(self, channels, use_conv):\n",
        "        super().__init__()\n",
        "        self.use_conv = use_conv\n",
        "        if use_conv:\n",
        "            self.conv = nn.Conv2d(channels, channels, kernel_size=3, padding=1)\n",
        "\n",
        "    def forward(self, x):\n",
        "        x = F.interpolate(x, scale_factor=2, mode=\"nearest\")\n",
        "        if self.use_conv:\n",
        "            x = self.conv(x)\n",
        "        return x\n",
        "\n",
        "# downsample\n",
        "class Downsample(nn.Module):\n",
        "    def __init__(self, channels, use_conv):\n",
        "        super().__init__()\n",
        "        self.use_conv = use_conv\n",
        "        if use_conv:\n",
        "            self.op = nn.Conv2d(channels, channels, kernel_size=3, stride=2, padding=1)\n",
        "        else:\n",
        "            self.op = nn.AvgPool2d(stride=2)\n",
        "\n",
        "    def forward(self, x):\n",
        "        return self.op(x)"
      ]
    },
    {
      "cell_type": "code",
      "execution_count": 9,
      "metadata": {
        "id": "-XLgTlh1hfTu"
      },
      "outputs": [],
      "source": [
        "\n",
        "# The full UNet model with attention and timestep embedding\n",
        "class UNetModel(nn.Module):\n",
        "    def __init__(\n",
        "        self,\n",
        "        in_channels=3,\n",
        "        model_channels=128,\n",
        "        out_channels=3,\n",
        "        num_res_blocks=2,\n",
        "        attention_resolutions=(8, 16),\n",
        "        dropout=0,\n",
        "        channel_mult=(1, 2, 2, 2),\n",
        "        conv_resample=True,\n",
        "        num_heads=4\n",
        "    ):\n",
        "        super().__init__()\n",
        "\n",
        "        self.in_channels = in_channels\n",
        "        self.model_channels = model_channels\n",
        "        self.out_channels = out_channels\n",
        "        self.num_res_blocks = num_res_blocks\n",
        "        self.attention_resolutions = attention_resolutions\n",
        "        self.dropout = dropout\n",
        "        self.channel_mult = channel_mult\n",
        "        self.conv_resample = conv_resample\n",
        "        self.num_heads = num_heads\n",
        "\n",
        "        # time embedding\n",
        "        time_embed_dim = model_channels * 4\n",
        "        self.time_embed = nn.Sequential(\n",
        "            nn.Linear(model_channels, time_embed_dim),\n",
        "            nn.SiLU(),\n",
        "            nn.Linear(time_embed_dim, time_embed_dim),\n",
        "        )\n",
        "\n",
        "        # down blocks\n",
        "        self.down_blocks = nn.ModuleList([\n",
        "            TimestepEmbedSequential(nn.Conv2d(in_channels, model_channels, kernel_size=3, padding=1))\n",
        "        ])\n",
        "        down_block_chans = [model_channels]\n",
        "        ch = model_channels\n",
        "        ds = 1\n",
        "        for level, mult in enumerate(channel_mult):\n",
        "            for _ in range(num_res_blocks):\n",
        "                layers = [\n",
        "                    ResidualBlock(ch, mult * model_channels, time_embed_dim, dropout)\n",
        "                ]\n",
        "                ch = mult * model_channels\n",
        "                if ds in attention_resolutions:\n",
        "                    layers.append(AttentionBlock(ch, num_heads=num_heads))\n",
        "                self.down_blocks.append(TimestepEmbedSequential(*layers))\n",
        "                down_block_chans.append(ch)\n",
        "            if level != len(channel_mult) - 1: # don't use downsample for the last stage\n",
        "                self.down_blocks.append(TimestepEmbedSequential(Downsample(ch, conv_resample)))\n",
        "                down_block_chans.append(ch)\n",
        "                ds *= 2\n",
        "\n",
        "        # middle block\n",
        "        self.middle_block = TimestepEmbedSequential(\n",
        "            ResidualBlock(ch, ch, time_embed_dim, dropout),\n",
        "            AttentionBlock(ch, num_heads=num_heads),\n",
        "            ResidualBlock(ch, ch, time_embed_dim, dropout)\n",
        "        )\n",
        "\n",
        "        # up blocks\n",
        "        self.up_blocks = nn.ModuleList([])\n",
        "        for level, mult in list(enumerate(channel_mult))[::-1]:\n",
        "            for i in range(num_res_blocks + 1):\n",
        "                layers = [\n",
        "                    ResidualBlock(\n",
        "                        ch + down_block_chans.pop(),\n",
        "                        model_channels * mult,\n",
        "                        time_embed_dim,\n",
        "                        dropout\n",
        "                    )\n",
        "                ]\n",
        "                ch = model_channels * mult\n",
        "                if ds in attention_resolutions:\n",
        "                    layers.append(AttentionBlock(ch, num_heads=num_heads))\n",
        "                if level and i == num_res_blocks:\n",
        "                    layers.append(Upsample(ch, conv_resample))\n",
        "                    ds //= 2\n",
        "                self.up_blocks.append(TimestepEmbedSequential(*layers))\n",
        "\n",
        "        self.out = nn.Sequential(\n",
        "            norm_layer(ch),\n",
        "            nn.SiLU(),\n",
        "            nn.Conv2d(model_channels, out_channels, kernel_size=3, padding=1),\n",
        "        )\n",
        "\n",
        "    def forward(self, x, timesteps):\n",
        "        \"\"\"\n",
        "        Apply the model to an input batch.\n",
        "        :param x: an [N x C x H x W] Tensor of inputs.\n",
        "        :param timesteps: a 1-D batch of timesteps.\n",
        "        :return: an [N x C x ...] Tensor of outputs.\n",
        "        \"\"\"\n",
        "        hs = []\n",
        "        # time step embedding\n",
        "        emb = self.time_embed(timestep_embedding(timesteps, self.model_channels))\n",
        "\n",
        "        # down stage\n",
        "        h = x\n",
        "        for module in self.down_blocks:\n",
        "            h = module(h, emb)\n",
        "            hs.append(h)\n",
        "        # middle stage\n",
        "        h = self.middle_block(h, emb)\n",
        "        # up stage\n",
        "        for module in self.up_blocks:\n",
        "            cat_in = torch.cat([h, hs.pop()], dim=1)\n",
        "            h = module(cat_in, emb)\n",
        "        return self.out(h)"
      ]
    },
    {
      "cell_type": "code",
      "source": [
        "#print out the structure of the Unet model to have a test\n",
        "sample_model=UNetModel()\n",
        "print(sample_model)"
      ],
      "metadata": {
        "id": "TGLNwfbnKpyK"
      },
      "execution_count": null,
      "outputs": []
    },
    {
      "cell_type": "code",
      "execution_count": 10,
      "metadata": {
        "id": "3bz8QWoohvQQ"
      },
      "outputs": [],
      "source": [
        "# beta schedule\n",
        "def linear_beta_schedule(timesteps):\n",
        "    scale = 1000 / timesteps\n",
        "    beta_start = scale * 0.0001\n",
        "    beta_end = scale * 0.02\n",
        "    return torch.linspace(beta_start, beta_end, timesteps, dtype=torch.float64)\n",
        "\n",
        "def cosine_beta_schedule(timesteps, s=0.008):\n",
        "    \"\"\"\n",
        "    cosine schedule\n",
        "    as proposed in https://arxiv.org/abs/2102.09672\n",
        "    \"\"\"\n",
        "    steps = timesteps + 1\n",
        "    x = torch.linspace(0, timesteps, steps, dtype=torch.float64)\n",
        "    alphas_cumprod = torch.cos(((x / timesteps) + s) / (1 + s) * math.pi * 0.5) ** 2\n",
        "    alphas_cumprod = alphas_cumprod / alphas_cumprod[0]\n",
        "    betas = 1 - (alphas_cumprod[1:] / alphas_cumprod[:-1])\n",
        "    return torch.clip(betas, 0, 0.999)"
      ]
    },
    {
      "cell_type": "code",
      "execution_count": 14,
      "metadata": {
        "id": "tHToZmmCh3ro"
      },
      "outputs": [],
      "source": [
        "import torch.nn.functional as F\n",
        "class GaussianDiffusion:\n",
        "    def __init__(\n",
        "        self,\n",
        "        timesteps=None,\n",
        "        beta_schedule='linear',\n",
        "        #the label of the image we want to generate\n",
        "        label=None,\n",
        "        classifier=None\n",
        "        ):\n",
        "        self.timesteps = timesteps\n",
        "\n",
        "        if beta_schedule == 'linear':\n",
        "            betas = linear_beta_schedule(timesteps)\n",
        "        elif beta_schedule == 'cosine':\n",
        "            betas = cosine_beta_schedule(timesteps)\n",
        "        else:\n",
        "            raise ValueError(f'unknown beta schedule {beta_schedule}')\n",
        "        self.betas = betas\n",
        "\n",
        "        self.alphas = 1. - self.betas\n",
        "        self.alphas_cumprod = torch.cumprod(self.alphas, axis=0)\n",
        "        self.alphas_cumprod_prev = F.pad(self.alphas_cumprod[:-1], (1, 0), value=1.)\n",
        "\n",
        "        # calculations for diffusion q(x_t | x_{t-1}) and others\n",
        "        self.sqrt_alphas_cumprod = torch.sqrt(self.alphas_cumprod)\n",
        "        self.sqrt_one_minus_alphas_cumprod = torch.sqrt(1.0 - self.alphas_cumprod)\n",
        "        self.log_one_minus_alphas_cumprod = torch.log(1.0 - self.alphas_cumprod)\n",
        "        self.sqrt_recip_alphas_cumprod = torch.sqrt(1.0 / self.alphas_cumprod)\n",
        "        self.sqrt_recipm1_alphas_cumprod = torch.sqrt(1.0 / self.alphas_cumprod - 1)\n",
        "\n",
        "        # calculations for posterior q(x_{t-1} | x_t, x_0)\n",
        "        self.posterior_variance = (\n",
        "            self.betas * (1.0 - self.alphas_cumprod_prev) / (1.0 - self.alphas_cumprod)\n",
        "        )\n",
        "        # below: log calculation clipped because the posterior variance is 0 at the beginning\n",
        "        # of the diffusion chain\n",
        "        self.posterior_log_variance_clipped = torch.log(self.posterior_variance.clamp(min =1e-20))\n",
        "\n",
        "        self.posterior_mean_coef1 = (\n",
        "            self.betas * torch.sqrt(self.alphas_cumprod_prev) / (1.0 - self.alphas_cumprod)\n",
        "        )\n",
        "        self.posterior_mean_coef2 = (\n",
        "            (1.0 - self.alphas_cumprod_prev)\n",
        "            * torch.sqrt(self.alphas)\n",
        "            / (1.0 - self.alphas_cumprod)\n",
        "        )\n",
        "\n",
        "        #suppose we want to generate the image with label y\n",
        "        self.y=label\n",
        "        #get the classifier\n",
        "        self.classifier=classifier\n",
        "        self.classifier_scale=25\n",
        "\n",
        "\n",
        "\n",
        "    # get the param of given timestep t\n",
        "    def _extract(self, a, t, x_shape):\n",
        "        batch_size = t.shape[0]\n",
        "        out = a.to(t.device).gather(0, t).float()\n",
        "        out = out.reshape(batch_size, *((1,) * (len(x_shape) - 1)))\n",
        "        return out\n",
        "\n",
        "    # forward diffusion (using the nice property): q(x_t | x_0)\n",
        "    def q_sample(self, x_start, t, noise=None):\n",
        "        if noise is None:\n",
        "            noise = torch.randn_like(x_start)\n",
        "\n",
        "        sqrt_alphas_cumprod_t = self._extract(self.sqrt_alphas_cumprod, t, x_start.shape)\n",
        "        sqrt_one_minus_alphas_cumprod_t = self._extract(self.sqrt_one_minus_alphas_cumprod, t, x_start.shape)\n",
        "\n",
        "        return sqrt_alphas_cumprod_t * x_start + sqrt_one_minus_alphas_cumprod_t * noise\n",
        "\n",
        "    # Get the mean and variance of q(x_t | x_0).\n",
        "    def q_mean_variance(self, x_start, t):\n",
        "        mean = self._extract(self.sqrt_alphas_cumprod, t, x_start.shape) * x_start\n",
        "        variance = self._extract(1.0 - self.alphas_cumprod, t, x_start.shape)\n",
        "        log_variance = self._extract(self.log_one_minus_alphas_cumprod, t, x_start.shape)\n",
        "        return mean, variance, log_variance\n",
        "\n",
        "    # Compute the mean and variance of the diffusion posterior: q(x_{t-1} | x_t, x_0)\n",
        "    def q_posterior_mean_variance(self, x_start, x_t, t):\n",
        "        posterior_mean = (\n",
        "            self._extract(self.posterior_mean_coef1, t, x_t.shape) * x_start\n",
        "            + self._extract(self.posterior_mean_coef2, t, x_t.shape) * x_t\n",
        "        )\n",
        "        posterior_variance = self._extract(self.posterior_variance, t, x_t.shape)\n",
        "        posterior_log_variance_clipped = self._extract(self.posterior_log_variance_clipped, t, x_t.shape)\n",
        "        return posterior_mean, posterior_variance, posterior_log_variance_clipped\n",
        "\n",
        "    # compute x_0 from x_t and pred noise: the reverse of `q_sample`\n",
        "    def predict_start_from_noise(self, x_t, t, noise):\n",
        "        return (\n",
        "            self._extract(self.sqrt_recip_alphas_cumprod, t, x_t.shape) * x_t -\n",
        "            self._extract(self.sqrt_recipm1_alphas_cumprod, t, x_t.shape) * noise\n",
        "        )\n",
        "\n",
        "\n",
        "    '''def cond_fn(x_t, t, y=None):\n",
        "        assert y is not None\n",
        "        with th.enable_grad():\n",
        "            x_in = x.detach().requires_grad_(True)\n",
        "            # 分类器输出分类结果\n",
        "            logits = classifier(x_in, t)\n",
        "            log_probs = F.log_softmax(logits, dim=-1)\n",
        "            selected = log_probs[range(len(logits)), y.view(-1)]\n",
        "            # 计算梯度并返回\n",
        "            return th.autograd.grad(selected.sum(), x_in)[0] * args.classifier_scale'''\n",
        "\n",
        "    #get the gradient of the classifier on the input x\n",
        "    def get_gradient(self,x_t,t):\n",
        "        assert self.y is not None\n",
        "        with torch.enable_grad():\n",
        "          x_t_in=x_t.detach().requires_grad_(True)\n",
        "          x_t_in=x_t_in.to('cuda')\n",
        "          print(x_t_in.size())\n",
        "          logits = classifier(x_t_in)\n",
        "          log_probs = F.log_softmax(logits, dim=-1)\n",
        "          #here the log probs should be a 1D tensor with ten entries\n",
        "          #then we get P(y|x_t)\n",
        "          _, predicted = torch.max(logits.data, 1)\n",
        "          print(predicted)\n",
        "          #P_y_x_t=log_probs[0][self.y]\n",
        "          batch_indices = torch.arange(log_probs.size(0))\n",
        "          P_y_x_t = log_probs[batch_indices, self.y]\n",
        "          #print('this is log_probas',log_probs)\n",
        "          #print('this is the log probability',P_y_x_t)\n",
        "          P_y_x_t=P_y_x_t.to('cuda')\n",
        "          #print(P_y_x_t)\n",
        "          #print(x_t_in)\n",
        "          return torch.autograd.grad(P_y_x_t.sum(),x_t_in)[0]*self.classifier_scale\n",
        "\n",
        "    # compute predicted mean and variance of p(x_{t-1} | x_t)\n",
        "    def p_mean_variance(self, model, x_t, t, clip_denoised=True):\n",
        "        # predict noise using model\n",
        "        pred_noise = model(x_t, t)\n",
        "        # get the predicted x_0: different from the algorithm2 in the paper\n",
        "        x_recon = self.predict_start_from_noise(x_t, t, pred_noise)\n",
        "        if clip_denoised:\n",
        "            x_recon = torch.clamp(x_recon, min=-1., max=1.)\n",
        "        model_mean, posterior_variance, posterior_log_variance = \\\n",
        "                    self.q_posterior_mean_variance(x_recon, x_t, t)\n",
        "\n",
        "        #here the posterior variance is only a scalar, it is supposed to be a covariance matrix \\Sigma_theta\n",
        "        #however, this covariance matrix is a diagonal matrix, and the diagonal element all equal\n",
        "        #so we can just represent it using a scaler and when it comes to calculation, it is the same.\n",
        "\n",
        "        #we add the gradient to the model mean to direct the model to generate the image to the direction we want\n",
        "        print('this is model mean',model_mean.size())\n",
        "        print('this is posterior variance',posterior_variance.size())\n",
        "\n",
        "        gradient=self.get_gradient(x_t,t)\n",
        "\n",
        "        model_mean+=posterior_variance*gradient\n",
        "\n",
        "        return model_mean, posterior_variance, posterior_log_variance\n",
        "\n",
        "    # denoise_step: sample x_{t-1} from x_t and pred_noise\n",
        "    @torch.no_grad()\n",
        "    def p_sample(self, model, x_t, t, clip_denoised=True):\n",
        "        # predict mean and variance\n",
        "        #print(x_t.size())\n",
        "        model_mean, _, model_log_variance = self.p_mean_variance(model, x_t, t,\n",
        "                                                    clip_denoised=clip_denoised)\n",
        "        noise = torch.randn_like(x_t)\n",
        "        # no noise when t == 0\n",
        "        nonzero_mask = ((t != 0).float().view(-1, *([1] * (len(x_t.shape) - 1))))\n",
        "        # compute x_{t-1}\n",
        "        pred_img = model_mean + nonzero_mask * (0.5 * model_log_variance).exp() * noise\n",
        "        return pred_img\n",
        "\n",
        "    # denoise: reverse diffusion\n",
        "    @torch.no_grad()\n",
        "    def p_sample_loop(self, model, shape):\n",
        "        batch_size = shape[0]\n",
        "        device = next(model.parameters()).device\n",
        "        # start from pure noise (for each example in the batch)\n",
        "        img = torch.randn(shape, device=device)\n",
        "        imgs = []\n",
        "        for i in tqdm(reversed(range(0, timesteps)), desc='sampling loop time step', total=timesteps):\n",
        "            img = self.p_sample(model, img, torch.full((batch_size,), i, device=device, dtype=torch.long))\n",
        "            imgs.append(img.cpu().numpy())\n",
        "        return imgs\n",
        "\n",
        "    # sample new images\n",
        "    @torch.no_grad()\n",
        "    def sample(self, model, image_size, batch_size=8, channels=3):\n",
        "        return self.p_sample_loop(model, shape=(batch_size, channels, image_size, image_size))\n",
        "\n",
        "    # compute train losses\n",
        "    def train_losses(self, model, x_start, t):\n",
        "        # generate random noised\n",
        "        noise = torch.randn_like(x_start)\n",
        "        # get x_t\n",
        "        x_noisy = self.q_sample(x_start, t, noise=noise)\n",
        "        predicted_noise = model(x_noisy, t)\n",
        "        loss = F.mse_loss(noise, predicted_noise)\n",
        "        return loss"
      ]
    },
    {
      "cell_type": "code",
      "execution_count": 12,
      "metadata": {
        "colab": {
          "base_uri": "https://localhost:8080/"
        },
        "id": "9H2n0GUUi1ZM",
        "outputId": "e8822286-e55c-4bd0-9362-e4d17430058d"
      },
      "outputs": [
        {
          "output_type": "stream",
          "name": "stdout",
          "text": [
            "Downloading https://www.cs.toronto.edu/~kriz/cifar-10-python.tar.gz to /data/cifar-10-python.tar.gz\n"
          ]
        },
        {
          "output_type": "stream",
          "name": "stderr",
          "text": [
            "100%|██████████| 170498071/170498071 [00:03<00:00, 48764691.46it/s]\n"
          ]
        },
        {
          "output_type": "stream",
          "name": "stdout",
          "text": [
            "Extracting /data/cifar-10-python.tar.gz to /data\n"
          ]
        }
      ],
      "source": [
        "batch_size = 128\n",
        "timesteps = 1000\n",
        "\n",
        "transform = transforms.Compose([\n",
        "    transforms.RandomHorizontalFlip(p=0.5),\n",
        "    transforms.ToTensor(),\n",
        "    transforms.Normalize(mean=[0.5, 0.5, 0.5], std=[0.5, 0.5, 0.5]),\n",
        "])\n",
        "\n",
        "dataset = datasets.CIFAR10('/data', train=True, download=True, transform=transform)\n",
        "train_loader = torch.utils.data.DataLoader(dataset, batch_size=batch_size, shuffle=True)\n",
        "\n",
        "device = \"cuda\" if torch.cuda.is_available() else \"cpu\"\n",
        "model = UNetModel(\n",
        "    in_channels=3,\n",
        "    model_channels=128,\n",
        "    out_channels=3,\n",
        "    channel_mult=(1, 2, 2, 2),\n",
        "    attention_resolutions=(2,),\n",
        "    dropout=0.1\n",
        ")\n",
        "model.to(device)\n",
        "\n",
        "gaussian_diffusion = GaussianDiffusion(timesteps=timesteps)\n",
        "optimizer = torch.optim.Adam(model.parameters(), lr=2e-4)"
      ]
    },
    {
      "cell_type": "code",
      "source": [
        "fig, axes = plt.subplots(3, 3, figsize=(6, 6))\n",
        "\n",
        "# 我们需要的图片数量\n",
        "num_images_to_display = 9\n",
        "\n",
        "# 已经显示的图片数量\n",
        "images_displayed = 0\n",
        "\n",
        "# 遍历训练数据直到找到足够的车辆图片\n",
        "for images, labels in train_loader:\n",
        "    for image, label in zip(images, labels):\n",
        "        if label == 0:\n",
        "            ax = axes[images_displayed // 3, images_displayed % 3]\n",
        "            # CIFAR-10数据集标准化后要还原为可显示的[0,1]范围\n",
        "            img = image / 2 + 0.5  # 反标准化\n",
        "            img = transforms.ToPILImage()(img)  # 转换为PIL图像\n",
        "            ax.imshow(img)\n",
        "            ax.axis('off')\n",
        "            images_displayed += 1\n",
        "            if images_displayed == num_images_to_display:\n",
        "                break\n",
        "    if images_displayed == num_images_to_display:\n",
        "        break\n",
        "\n",
        "# 显示图像\n",
        "plt.show()"
      ],
      "metadata": {
        "colab": {
          "base_uri": "https://localhost:8080/",
          "height": 499
        },
        "id": "YxEpgE_8J5Ev",
        "outputId": "4693b17a-7d87-4b52-b2d1-5452b193d9af"
      },
      "execution_count": null,
      "outputs": [
        {
          "output_type": "display_data",
          "data": {
            "text/plain": [
              "<Figure size 600x600 with 9 Axes>"
            ],
            "image/png": "[encoded data removed]"
          },
          "metadata": {}
        }
      ]
    },
    {
      "cell_type": "code",
      "execution_count": null,
      "metadata": {
        "id": "9csgkOcLjCCT"
      },
      "outputs": [],
      "source": [
        "# epochs = 20\n",
        "\n",
        "# for epoch in range(epochs):\n",
        "#     total_loss = 0\n",
        "#     for step, (images, labels) in enumerate(train_loader):\n",
        "#         optimizer.zero_grad()\n",
        "\n",
        "#         batch_size = images.shape[0]\n",
        "#         images = images.to(device)\n",
        "\n",
        "#         # sample t uniformally for every example in the batch\n",
        "#         t = torch.randint(0, timesteps, (batch_size,), device=device).long()\n",
        "\n",
        "#         loss = gaussian_diffusion.train_losses(model, images, t)\n",
        "#         total_loss += loss.item()\n",
        "#         #if step % 200 == 0:\n",
        "#         #    print(\"Loss:\", loss.item())\n",
        "\n",
        "\n",
        "#         loss.backward()\n",
        "#         optimizer.step()\n",
        "#     print(f\"Epoch {epoch}, Loss {total_loss/len(train_loader)}\")"
      ]
    },
    {
      "cell_type": "code",
      "source": [
        "# #save the trained model in google drive\n",
        "# model_pth=\"/content/drive/MyDrive/Unet_model/UNet_5.pth\"\n",
        "# torch.save(model.state_dict(),model_pth)"
      ],
      "metadata": {
        "id": "fJrDqr1FzqpI"
      },
      "execution_count": null,
      "outputs": []
    },
    {
      "cell_type": "code",
      "source": [
        "#load the model\n",
        "model_pth=\"/content/drive/MyDrive/Unet_model/UNet_200.pth\"\n",
        "model = UNetModel(\n",
        "    in_channels=3,\n",
        "    model_channels=128,\n",
        "    out_channels=3,\n",
        "    channel_mult=(1, 2, 2, 2),\n",
        "    attention_resolutions=(2,),\n",
        "    dropout=0.1\n",
        ")\n",
        "model.to(device)\n",
        "\n",
        "model.load_state_dict(torch.load(model_pth))"
      ],
      "metadata": {
        "colab": {
          "base_uri": "https://localhost:8080/"
        },
        "id": "En5Vs5LGq_Ct",
        "outputId": "32139fbb-48ce-42b8-c995-afc6e6c461b6"
      },
      "execution_count": 13,
      "outputs": [
        {
          "output_type": "execute_result",
          "data": {
            "text/plain": [
              "<All keys matched successfully>"
            ]
          },
          "metadata": {},
          "execution_count": 13
        }
      ]
    },
    {
      "cell_type": "code",
      "source": [
        "my_gaussian_diffusion = GaussianDiffusion(timesteps=1000,beta_schedule='linear',label=0,classifier=classifier)"
      ],
      "metadata": {
        "id": "_o730aWDPhXW"
      },
      "execution_count": 15,
      "outputs": []
    },
    {
      "cell_type": "code",
      "execution_count": null,
      "metadata": {
        "id": "E_vfrjBbjEGH",
        "colab": {
          "base_uri": "https://localhost:8080/"
        },
        "outputId": "eec79c71-3df8-4087-8803-a985c7bb9544"
      },
      "outputs": [
        {
          "output_type": "stream",
          "name": "stderr",
          "text": [
            "\rsampling loop time step:   0%|          | 0/1000 [00:00<?, ?it/s]"
          ]
        },
        {
          "output_type": "stream",
          "name": "stdout",
          "text": [
            "this is model mean torch.Size([64, 3, 32, 32])\n",
            "this is posterior variance torch.Size([64, 1, 1, 1])\n",
            "torch.Size([64, 3, 32, 32])\n",
            "tensor([1, 1, 2, 1, 1, 1, 3, 1, 1, 1, 1, 1, 1, 2, 1, 2, 2, 1, 1, 1, 1, 1, 1, 1,\n",
            "        1, 2, 2, 1, 1, 2, 1, 1, 1, 1, 1, 2, 1, 2, 1, 2, 1, 2, 1, 1, 1, 1, 2, 1,\n",
            "        1, 1, 1, 2, 2, 1, 1, 1, 1, 1, 1, 1, 1, 1, 1, 1], device='cuda:0')\n"
          ]
        },
        {
          "output_type": "stream",
          "name": "stderr",
          "text": [
            "sampling loop time step:   0%|          | 2/1000 [00:02<20:40,  1.24s/it]"
          ]
        },
        {
          "output_type": "stream",
          "name": "stdout",
          "text": [
            "this is model mean torch.Size([64, 3, 32, 32])\n",
            "this is posterior variance torch.Size([64, 1, 1, 1])\n",
            "torch.Size([64, 3, 32, 32])\n",
            "tensor([2, 1, 1, 2, 2, 2, 1, 1, 1, 2, 2, 1, 2, 1, 2, 1, 2, 3, 2, 1, 3, 1, 2, 2,\n",
            "        2, 1, 1, 1, 1, 1, 1, 2, 2, 1, 2, 1, 3, 1, 1, 1, 6, 2, 2, 1, 1, 2, 3, 2,\n",
            "        1, 2, 1, 2, 3, 3, 2, 2, 2, 2, 2, 6, 2, 2, 2, 1], device='cuda:0')\n",
            "this is model mean torch.Size([64, 3, 32, 32])\n",
            "this is posterior variance torch.Size([64, 1, 1, 1])\n",
            "torch.Size([64, 3, 32, 32])\n",
            "tensor([2, 1, 2, 1, 1, 1, 2, 9, 2, 1, 2, 1, 1, 2, 9, 0, 1, 1, 1, 1, 2, 2, 5, 1,\n",
            "        2, 2, 2, 1, 2, 2, 1, 9, 1, 1, 2, 1, 1, 1, 2, 2, 2, 2, 9, 2, 1, 1, 2, 2,\n",
            "        2, 1, 2, 1, 2, 1, 1, 2, 1, 9, 1, 1, 1, 9, 5, 9], device='cuda:0')\n"
          ]
        },
        {
          "output_type": "stream",
          "name": "stderr",
          "text": [
            "sampling loop time step:   0%|          | 4/1000 [00:03<08:40,  1.91it/s]"
          ]
        },
        {
          "output_type": "stream",
          "name": "stdout",
          "text": [
            "this is model mean torch.Size([64, 3, 32, 32])\n",
            "this is posterior variance torch.Size([64, 1, 1, 1])\n",
            "torch.Size([64, 3, 32, 32])\n",
            "tensor([1, 2, 5, 9, 1, 1, 2, 9, 2, 1, 1, 5, 6, 9, 1, 0, 1, 9, 1, 2, 3, 1, 2, 3,\n",
            "        1, 9, 2, 9, 3, 1, 2, 9, 9, 1, 6, 1, 6, 9, 1, 1, 2, 1, 9, 1, 6, 2, 1, 2,\n",
            "        1, 9, 9, 1, 9, 6, 2, 1, 6, 1, 1, 1, 1, 1, 9, 0], device='cuda:0')\n",
            "this is model mean torch.Size([64, 3, 32, 32])\n",
            "this is posterior variance torch.Size([64, 1, 1, 1])\n",
            "torch.Size([64, 3, 32, 32])\n",
            "tensor([9, 1, 6, 9, 2, 2, 9, 5, 6, 1, 6, 1, 1, 2, 9, 0, 5, 2, 6, 2, 1, 9, 1, 3,\n",
            "        9, 2, 2, 9, 3, 1, 1, 9, 9, 9, 1, 1, 1, 5, 9, 9, 9, 1, 9, 1, 1, 1, 2, 9,\n",
            "        6, 1, 9, 9, 9, 5, 5, 1, 1, 2, 2, 9, 2, 0, 9, 0], device='cuda:0')\n"
          ]
        },
        {
          "output_type": "stream",
          "name": "stderr",
          "text": [
            "sampling loop time step:   1%|          | 6/1000 [00:03<05:18,  3.12it/s]"
          ]
        },
        {
          "output_type": "stream",
          "name": "stdout",
          "text": [
            "this is model mean torch.Size([64, 3, 32, 32])\n",
            "this is posterior variance torch.Size([64, 1, 1, 1])\n",
            "torch.Size([64, 3, 32, 32])\n",
            "tensor([6, 1, 1, 0, 1, 1, 2, 3, 5, 1, 9, 9, 1, 9, 2, 0, 0, 9, 1, 9, 2, 9, 5, 3,\n",
            "        9, 9, 2, 1, 0, 9, 6, 5, 9, 9, 1, 5, 1, 1, 9, 6, 0, 1, 0, 1, 9, 9, 1, 9,\n",
            "        5, 9, 5, 9, 9, 1, 2, 5, 9, 9, 1, 1, 2, 0, 9, 0], device='cuda:0')\n",
            "this is model mean torch.Size([64, 3, 32, 32])\n",
            "this is posterior variance torch.Size([64, 1, 1, 1])\n",
            "torch.Size([64, 3, 32, 32])\n",
            "tensor([9, 1, 2, 0, 2, 2, 9, 9, 6, 9, 1, 0, 1, 9, 5, 0, 0, 0, 1, 2, 1, 0, 9, 3,\n",
            "        9, 9, 1, 9, 0, 2, 9, 9, 9, 9, 1, 3, 9, 9, 9, 3, 0, 1, 0, 1, 0, 9, 2, 9,\n",
            "        9, 1, 6, 9, 9, 9, 5, 9, 1, 1, 6, 9, 1, 0, 9, 0], device='cuda:0')\n"
          ]
        },
        {
          "output_type": "stream",
          "name": "stderr",
          "text": [
            "sampling loop time step:   1%|          | 8/1000 [00:03<03:57,  4.17it/s]"
          ]
        },
        {
          "output_type": "stream",
          "name": "stdout",
          "text": [
            "this is model mean torch.Size([64, 3, 32, 32])\n",
            "this is posterior variance torch.Size([64, 1, 1, 1])\n",
            "torch.Size([64, 3, 32, 32])\n",
            "tensor([0, 3, 1, 0, 2, 3, 6, 0, 1, 9, 9, 0, 3, 9, 9, 0, 0, 0, 1, 9, 5, 0, 9, 0,\n",
            "        9, 9, 1, 9, 0, 9, 9, 0, 9, 9, 1, 3, 9, 9, 9, 3, 0, 3, 0, 2, 0, 9, 3, 9,\n",
            "        9, 0, 9, 9, 9, 9, 9, 2, 1, 5, 5, 9, 0, 0, 9, 0], device='cuda:0')\n",
            "this is model mean torch.Size([64, 3, 32, 32])\n",
            "this is posterior variance torch.Size([64, 1, 1, 1])\n",
            "torch.Size([64, 3, 32, 32])\n",
            "tensor([0, 3, 0, 0, 1, 9, 3, 0, 0, 9, 0, 0, 3, 9, 9, 0, 0, 0, 0, 0, 0, 0, 0, 0,\n",
            "        9, 9, 2, 0, 0, 9, 9, 0, 9, 9, 6, 0, 9, 9, 1, 3, 0, 9, 0, 1, 0, 9, 9, 9,\n",
            "        9, 0, 9, 9, 0, 9, 9, 0, 9, 1, 9, 9, 0, 0, 9, 0], device='cuda:0')\n"
          ]
        },
        {
          "output_type": "stream",
          "name": "stderr",
          "text": [
            "sampling loop time step:   1%|          | 11/1000 [00:04<03:09,  5.21it/s]"
          ]
        },
        {
          "output_type": "stream",
          "name": "stdout",
          "text": [
            "this is model mean torch.Size([64, 3, 32, 32])\n",
            "this is posterior variance torch.Size([64, 1, 1, 1])\n",
            "torch.Size([64, 3, 32, 32])\n",
            "tensor([0, 3, 0, 0, 2, 2, 3, 0, 0, 9, 0, 0, 3, 9, 9, 0, 0, 0, 0, 0, 0, 0, 0, 0,\n",
            "        9, 9, 1, 0, 0, 9, 0, 0, 9, 9, 6, 0, 9, 9, 9, 3, 0, 3, 0, 6, 0, 9, 9, 0,\n",
            "        9, 0, 5, 0, 0, 9, 2, 0, 9, 9, 9, 9, 0, 0, 9, 0], device='cuda:0')\n",
            "this is model mean torch.Size([64, 3, 32, 32])\n",
            "this is posterior variance torch.Size([64, 1, 1, 1])\n",
            "torch.Size([64, 3, 32, 32])\n",
            "tensor([0, 3, 0, 0, 5, 2, 6, 0, 0, 9, 0, 0, 6, 0, 9, 0, 0, 0, 0, 0, 0, 0, 0, 0,\n",
            "        0, 6, 6, 0, 0, 9, 0, 0, 9, 6, 6, 0, 9, 9, 0, 3, 0, 0, 0, 1, 0, 0, 9, 0,\n",
            "        9, 0, 9, 0, 0, 9, 0, 0, 9, 9, 9, 9, 0, 0, 9, 0], device='cuda:0')\n"
          ]
        },
        {
          "output_type": "stream",
          "name": "stderr",
          "text": [
            "sampling loop time step:   1%|▏         | 13/1000 [00:04<02:57,  5.55it/s]"
          ]
        },
        {
          "output_type": "stream",
          "name": "stdout",
          "text": [
            "this is model mean torch.Size([64, 3, 32, 32])\n",
            "this is posterior variance torch.Size([64, 1, 1, 1])\n",
            "torch.Size([64, 3, 32, 32])\n",
            "tensor([0, 3, 0, 0, 3, 3, 3, 0, 0, 9, 0, 0, 0, 0, 9, 0, 0, 0, 0, 0, 0, 0, 0, 0,\n",
            "        0, 9, 6, 0, 0, 0, 0, 0, 0, 9, 6, 0, 0, 1, 0, 3, 0, 0, 0, 3, 0, 0, 9, 0,\n",
            "        0, 0, 9, 0, 0, 9, 0, 0, 9, 9, 9, 9, 0, 0, 0, 0], device='cuda:0')\n",
            "this is model mean torch.Size([64, 3, 32, 32])\n",
            "this is posterior variance torch.Size([64, 1, 1, 1])\n",
            "torch.Size([64, 3, 32, 32])\n",
            "tensor([0, 0, 0, 0, 5, 2, 3, 0, 0, 0, 0, 0, 0, 0, 0, 0, 0, 0, 0, 0, 0, 0, 0, 0,\n",
            "        0, 2, 3, 0, 0, 0, 0, 0, 0, 9, 0, 0, 0, 9, 0, 3, 0, 0, 0, 6, 0, 0, 9, 0,\n",
            "        0, 0, 9, 0, 0, 9, 0, 0, 1, 9, 9, 9, 0, 0, 0, 0], device='cuda:0')\n"
          ]
        },
        {
          "output_type": "stream",
          "name": "stderr",
          "text": [
            "\rsampling loop time step:   1%|▏         | 14/1000 [00:04<02:55,  5.61it/s]"
          ]
        },
        {
          "output_type": "stream",
          "name": "stdout",
          "text": [
            "this is model mean torch.Size([64, 3, 32, 32])\n",
            "this is posterior variance torch.Size([64, 1, 1, 1])\n",
            "torch.Size([64, 3, 32, 32])\n",
            "tensor([0, 0, 0, 0, 3, 2, 3, 0, 0, 0, 0, 0, 0, 0, 0, 0, 0, 0, 0, 0, 0, 0, 0, 0,\n",
            "        0, 9, 0, 0, 0, 0, 0, 0, 0, 9, 0, 0, 0, 0, 0, 3, 0, 0, 0, 6, 0, 0, 9, 0,\n",
            "        0, 0, 0, 0, 0, 9, 0, 0, 9, 0, 9, 0, 0, 0, 0, 0], device='cuda:0')\n",
            "this is model mean torch.Size([64, 3, 32, 32])\n",
            "this is posterior variance torch.Size([64, 1, 1, 1])\n",
            "torch.Size([64, 3, 32, 32])\n",
            "tensor([0, 0, 0, 0, 5, 3, 3, 0, 0, 0, 0, 0, 0, 0, 0, 0, 0, 0, 0, 0, 0, 0, 0, 0,\n",
            "        0, 9, 0, 0, 0, 0, 0, 0, 0, 9, 0, 0, 0, 0, 0, 3, 0, 0, 0, 6, 0, 0, 9, 0,\n",
            "        0, 0, 0, 0, 0, 9, 0, 0, 9, 0, 0, 0, 0, 0, 0, 0], device='cuda:0')\n"
          ]
        },
        {
          "output_type": "stream",
          "name": "stderr",
          "text": [
            "sampling loop time step:   2%|▏         | 16/1000 [00:05<02:50,  5.77it/s]"
          ]
        },
        {
          "output_type": "stream",
          "name": "stdout",
          "text": [
            "this is model mean torch.Size([64, 3, 32, 32])\n",
            "this is posterior variance torch.Size([64, 1, 1, 1])\n",
            "torch.Size([64, 3, 32, 32])\n",
            "tensor([0, 0, 0, 0, 3, 2, 9, 0, 0, 0, 0, 0, 0, 0, 0, 0, 0, 0, 0, 0, 0, 0, 0, 0,\n",
            "        0, 9, 0, 0, 0, 0, 0, 0, 0, 9, 0, 0, 0, 0, 0, 3, 0, 0, 0, 6, 0, 0, 9, 0,\n",
            "        0, 0, 0, 0, 0, 9, 0, 0, 9, 0, 0, 0, 0, 0, 0, 0], device='cuda:0')\n",
            "this is model mean torch.Size([64, 3, 32, 32])\n",
            "this is posterior variance torch.Size([64, 1, 1, 1])\n",
            "torch.Size([64, 3, 32, 32])\n",
            "tensor([0, 0, 0, 0, 5, 0, 9, 0, 0, 0, 0, 0, 0, 0, 0, 0, 0, 0, 0, 0, 0, 0, 0, 0,\n",
            "        0, 9, 0, 0, 0, 0, 0, 0, 0, 0, 0, 0, 0, 0, 0, 3, 0, 0, 0, 6, 0, 0, 9, 0,\n",
            "        0, 0, 0, 0, 0, 0, 0, 0, 9, 0, 0, 0, 0, 0, 0, 0], device='cuda:0')\n"
          ]
        },
        {
          "output_type": "stream",
          "name": "stderr",
          "text": [
            "sampling loop time step:   2%|▏         | 18/1000 [00:05<02:49,  5.80it/s]"
          ]
        },
        {
          "output_type": "stream",
          "name": "stdout",
          "text": [
            "this is model mean torch.Size([64, 3, 32, 32])\n",
            "this is posterior variance torch.Size([64, 1, 1, 1])\n",
            "torch.Size([64, 3, 32, 32])\n",
            "tensor([0, 0, 0, 0, 5, 0, 9, 0, 0, 0, 0, 0, 0, 0, 0, 0, 0, 0, 0, 0, 0, 0, 0, 0,\n",
            "        0, 9, 0, 0, 0, 0, 0, 0, 0, 0, 0, 0, 0, 0, 0, 3, 0, 0, 0, 6, 0, 0, 9, 0,\n",
            "        0, 0, 0, 0, 0, 0, 0, 0, 9, 0, 0, 0, 0, 0, 0, 0], device='cuda:0')\n",
            "this is model mean torch.Size([64, 3, 32, 32])\n",
            "this is posterior variance torch.Size([64, 1, 1, 1])\n",
            "torch.Size([64, 3, 32, 32])\n",
            "tensor([0, 0, 0, 0, 6, 0, 0, 0, 0, 0, 0, 0, 0, 0, 0, 0, 0, 0, 0, 0, 0, 0, 0, 0,\n",
            "        0, 9, 0, 0, 0, 0, 0, 0, 0, 0, 0, 0, 0, 0, 0, 3, 0, 0, 0, 6, 0, 0, 9, 0,\n",
            "        0, 0, 0, 0, 0, 0, 0, 0, 0, 0, 0, 0, 0, 0, 0, 0], device='cuda:0')\n"
          ]
        },
        {
          "output_type": "stream",
          "name": "stderr",
          "text": [
            "sampling loop time step:   2%|▏         | 20/1000 [00:06<02:51,  5.72it/s]"
          ]
        },
        {
          "output_type": "stream",
          "name": "stdout",
          "text": [
            "this is model mean torch.Size([64, 3, 32, 32])\n",
            "this is posterior variance torch.Size([64, 1, 1, 1])\n",
            "torch.Size([64, 3, 32, 32])\n",
            "tensor([0, 0, 0, 0, 5, 0, 3, 0, 0, 0, 0, 0, 0, 0, 0, 0, 0, 0, 0, 0, 0, 0, 0, 0,\n",
            "        0, 9, 0, 0, 0, 0, 0, 0, 0, 0, 0, 0, 0, 0, 0, 3, 0, 0, 0, 6, 0, 0, 9, 0,\n",
            "        0, 0, 0, 0, 0, 0, 0, 0, 0, 0, 0, 0, 0, 0, 0, 0], device='cuda:0')\n",
            "this is model mean torch.Size([64, 3, 32, 32])\n",
            "this is posterior variance torch.Size([64, 1, 1, 1])\n",
            "torch.Size([64, 3, 32, 32])\n",
            "tensor([0, 0, 0, 0, 5, 0, 8, 0, 0, 0, 0, 0, 0, 0, 0, 0, 0, 0, 0, 0, 0, 0, 0, 0,\n",
            "        0, 9, 0, 0, 0, 0, 0, 0, 0, 0, 0, 0, 0, 0, 0, 3, 0, 0, 0, 6, 0, 0, 9, 0,\n",
            "        0, 0, 0, 0, 0, 0, 0, 0, 0, 0, 0, 0, 0, 0, 0, 0], device='cuda:0')\n"
          ]
        },
        {
          "output_type": "stream",
          "name": "stderr",
          "text": [
            "sampling loop time step:   2%|▏         | 22/1000 [00:06<02:49,  5.79it/s]"
          ]
        },
        {
          "output_type": "stream",
          "name": "stdout",
          "text": [
            "this is model mean torch.Size([64, 3, 32, 32])\n",
            "this is posterior variance torch.Size([64, 1, 1, 1])\n",
            "torch.Size([64, 3, 32, 32])\n",
            "tensor([0, 0, 0, 0, 5, 0, 3, 0, 0, 0, 0, 0, 0, 0, 0, 0, 0, 0, 0, 0, 0, 0, 0, 0,\n",
            "        0, 9, 0, 0, 0, 0, 0, 0, 0, 0, 0, 0, 0, 0, 0, 0, 0, 0, 0, 6, 0, 0, 9, 0,\n",
            "        0, 0, 0, 0, 0, 0, 0, 0, 0, 0, 0, 0, 0, 0, 0, 0], device='cuda:0')\n",
            "this is model mean torch.Size([64, 3, 32, 32])\n",
            "this is posterior variance torch.Size([64, 1, 1, 1])\n",
            "torch.Size([64, 3, 32, 32])\n",
            "tensor([0, 0, 0, 0, 5, 0, 0, 0, 0, 0, 0, 0, 0, 0, 0, 0, 0, 0, 0, 0, 0, 0, 0, 0,\n",
            "        0, 9, 0, 0, 0, 0, 0, 0, 0, 0, 0, 0, 0, 0, 0, 0, 0, 0, 0, 6, 0, 0, 9, 0,\n",
            "        0, 0, 0, 0, 0, 0, 0, 0, 0, 0, 0, 0, 0, 0, 0, 0], device='cuda:0')\n"
          ]
        },
        {
          "output_type": "stream",
          "name": "stderr",
          "text": [
            "sampling loop time step:   2%|▏         | 24/1000 [00:06<02:47,  5.82it/s]"
          ]
        },
        {
          "output_type": "stream",
          "name": "stdout",
          "text": [
            "this is model mean torch.Size([64, 3, 32, 32])\n",
            "this is posterior variance torch.Size([64, 1, 1, 1])\n",
            "torch.Size([64, 3, 32, 32])\n",
            "tensor([0, 0, 0, 0, 9, 0, 0, 0, 0, 0, 0, 0, 0, 0, 0, 0, 0, 0, 0, 0, 0, 0, 0, 0,\n",
            "        0, 2, 0, 0, 0, 0, 0, 0, 0, 0, 0, 0, 0, 0, 0, 0, 9, 0, 0, 6, 0, 0, 9, 0,\n",
            "        0, 0, 0, 0, 0, 0, 0, 0, 0, 0, 0, 0, 0, 0, 0, 0], device='cuda:0')\n",
            "this is model mean torch.Size([64, 3, 32, 32])\n",
            "this is posterior variance torch.Size([64, 1, 1, 1])\n",
            "torch.Size([64, 3, 32, 32])\n",
            "tensor([0, 0, 0, 0, 1, 0, 0, 0, 1, 0, 0, 0, 0, 0, 0, 0, 0, 0, 0, 0, 0, 0, 0, 0,\n",
            "        0, 9, 0, 0, 0, 0, 0, 0, 0, 0, 0, 0, 0, 0, 0, 0, 0, 0, 0, 0, 0, 0, 9, 0,\n",
            "        0, 0, 0, 0, 0, 0, 0, 0, 0, 0, 0, 0, 0, 0, 0, 0], device='cuda:0')\n"
          ]
        },
        {
          "output_type": "stream",
          "name": "stderr",
          "text": [
            "sampling loop time step:   3%|▎         | 26/1000 [00:07<02:47,  5.81it/s]"
          ]
        },
        {
          "output_type": "stream",
          "name": "stdout",
          "text": [
            "this is model mean torch.Size([64, 3, 32, 32])\n",
            "this is posterior variance torch.Size([64, 1, 1, 1])\n",
            "torch.Size([64, 3, 32, 32])\n",
            "tensor([0, 0, 0, 0, 1, 0, 0, 0, 0, 0, 0, 0, 0, 0, 0, 0, 0, 0, 0, 0, 0, 0, 0, 0,\n",
            "        0, 0, 0, 0, 0, 0, 0, 0, 0, 0, 0, 0, 0, 0, 0, 0, 0, 0, 0, 6, 0, 0, 9, 0,\n",
            "        0, 0, 0, 0, 0, 0, 0, 0, 0, 0, 0, 0, 0, 0, 0, 0], device='cuda:0')\n",
            "this is model mean torch.Size([64, 3, 32, 32])\n",
            "this is posterior variance torch.Size([64, 1, 1, 1])\n",
            "torch.Size([64, 3, 32, 32])\n",
            "tensor([0, 0, 0, 0, 9, 0, 0, 0, 0, 0, 0, 0, 0, 0, 0, 0, 0, 0, 0, 0, 0, 0, 9, 0,\n",
            "        0, 0, 0, 0, 0, 0, 0, 0, 0, 0, 0, 0, 0, 0, 0, 0, 0, 0, 0, 6, 0, 0, 9, 0,\n",
            "        0, 0, 0, 0, 0, 0, 0, 0, 0, 0, 0, 0, 0, 0, 0, 0], device='cuda:0')\n"
          ]
        },
        {
          "output_type": "stream",
          "name": "stderr",
          "text": [
            "sampling loop time step:   3%|▎         | 28/1000 [00:07<02:46,  5.86it/s]"
          ]
        },
        {
          "output_type": "stream",
          "name": "stdout",
          "text": [
            "this is model mean torch.Size([64, 3, 32, 32])\n",
            "this is posterior variance torch.Size([64, 1, 1, 1])\n",
            "torch.Size([64, 3, 32, 32])\n",
            "tensor([0, 0, 0, 0, 9, 0, 0, 0, 0, 0, 0, 0, 0, 0, 0, 0, 0, 0, 0, 0, 0, 0, 0, 0,\n",
            "        0, 0, 0, 0, 0, 0, 0, 0, 0, 0, 0, 0, 0, 0, 0, 0, 0, 0, 0, 0, 0, 0, 9, 0,\n",
            "        0, 0, 0, 0, 0, 0, 0, 0, 0, 0, 0, 0, 0, 0, 0, 0], device='cuda:0')\n",
            "this is model mean torch.Size([64, 3, 32, 32])\n",
            "this is posterior variance torch.Size([64, 1, 1, 1])\n",
            "torch.Size([64, 3, 32, 32])\n",
            "tensor([0, 0, 0, 0, 3, 0, 0, 0, 0, 0, 0, 0, 0, 0, 0, 0, 0, 0, 0, 0, 0, 0, 0, 0,\n",
            "        0, 0, 0, 0, 0, 0, 0, 0, 0, 0, 0, 0, 0, 0, 0, 0, 0, 0, 0, 0, 0, 0, 9, 0,\n",
            "        0, 0, 0, 0, 0, 0, 0, 0, 0, 0, 0, 0, 0, 0, 0, 0], device='cuda:0')\n"
          ]
        },
        {
          "output_type": "stream",
          "name": "stderr",
          "text": [
            "sampling loop time step:   3%|▎         | 30/1000 [00:07<02:45,  5.86it/s]"
          ]
        },
        {
          "output_type": "stream",
          "name": "stdout",
          "text": [
            "this is model mean torch.Size([64, 3, 32, 32])\n",
            "this is posterior variance torch.Size([64, 1, 1, 1])\n",
            "torch.Size([64, 3, 32, 32])\n",
            "tensor([0, 0, 0, 0, 0, 0, 0, 0, 0, 0, 0, 0, 0, 0, 0, 0, 0, 0, 0, 0, 0, 0, 0, 0,\n",
            "        0, 0, 0, 0, 0, 0, 0, 0, 0, 0, 0, 0, 0, 0, 0, 0, 0, 0, 0, 0, 0, 0, 9, 0,\n",
            "        0, 0, 0, 0, 0, 0, 0, 0, 0, 0, 0, 0, 0, 0, 0, 0], device='cuda:0')\n",
            "this is model mean torch.Size([64, 3, 32, 32])\n",
            "this is posterior variance torch.Size([64, 1, 1, 1])\n",
            "torch.Size([64, 3, 32, 32])\n",
            "tensor([0, 0, 0, 0, 0, 0, 0, 0, 0, 0, 0, 0, 0, 0, 0, 0, 0, 0, 0, 0, 0, 0, 0, 0,\n",
            "        0, 0, 0, 0, 0, 0, 0, 0, 0, 0, 0, 0, 0, 0, 0, 0, 0, 0, 0, 0, 0, 0, 9, 0,\n",
            "        0, 0, 0, 0, 0, 0, 0, 0, 0, 0, 0, 0, 0, 0, 0, 0], device='cuda:0')\n"
          ]
        },
        {
          "output_type": "stream",
          "name": "stderr",
          "text": [
            "sampling loop time step:   3%|▎         | 32/1000 [00:08<02:46,  5.81it/s]"
          ]
        },
        {
          "output_type": "stream",
          "name": "stdout",
          "text": [
            "this is model mean torch.Size([64, 3, 32, 32])\n",
            "this is posterior variance torch.Size([64, 1, 1, 1])\n",
            "torch.Size([64, 3, 32, 32])\n",
            "tensor([0, 0, 0, 0, 0, 0, 6, 0, 0, 0, 0, 0, 0, 0, 0, 0, 0, 0, 0, 0, 0, 0, 0, 0,\n",
            "        0, 0, 0, 0, 0, 0, 0, 0, 0, 0, 0, 0, 0, 0, 0, 0, 0, 0, 0, 0, 0, 0, 6, 0,\n",
            "        0, 0, 0, 0, 0, 0, 0, 0, 0, 0, 0, 0, 0, 0, 0, 0], device='cuda:0')\n",
            "this is model mean torch.Size([64, 3, 32, 32])\n",
            "this is posterior variance torch.Size([64, 1, 1, 1])\n",
            "torch.Size([64, 3, 32, 32])\n",
            "tensor([0, 0, 0, 0, 0, 0, 0, 0, 0, 0, 0, 0, 0, 0, 0, 0, 0, 0, 0, 0, 0, 0, 0, 0,\n",
            "        0, 0, 0, 0, 0, 0, 0, 0, 0, 0, 0, 0, 0, 0, 0, 0, 0, 0, 0, 0, 0, 0, 9, 0,\n",
            "        0, 0, 0, 0, 0, 0, 0, 0, 0, 0, 0, 0, 0, 0, 0, 0], device='cuda:0')\n"
          ]
        },
        {
          "output_type": "stream",
          "name": "stderr",
          "text": [
            "sampling loop time step:   3%|▎         | 34/1000 [00:08<02:46,  5.80it/s]"
          ]
        },
        {
          "output_type": "stream",
          "name": "stdout",
          "text": [
            "this is model mean torch.Size([64, 3, 32, 32])\n",
            "this is posterior variance torch.Size([64, 1, 1, 1])\n",
            "torch.Size([64, 3, 32, 32])\n",
            "tensor([0, 0, 0, 0, 0, 0, 0, 0, 0, 0, 0, 0, 0, 0, 0, 0, 0, 0, 0, 0, 0, 0, 0, 0,\n",
            "        0, 0, 0, 0, 0, 0, 0, 0, 0, 0, 0, 0, 0, 0, 0, 0, 0, 0, 0, 0, 0, 0, 9, 0,\n",
            "        0, 0, 0, 0, 0, 0, 0, 0, 0, 0, 0, 0, 0, 0, 0, 0], device='cuda:0')\n",
            "this is model mean torch.Size([64, 3, 32, 32])\n",
            "this is posterior variance torch.Size([64, 1, 1, 1])\n",
            "torch.Size([64, 3, 32, 32])\n",
            "tensor([0, 0, 0, 0, 0, 0, 0, 0, 0, 0, 0, 0, 0, 0, 0, 0, 0, 0, 0, 0, 0, 0, 0, 0,\n",
            "        0, 0, 0, 0, 0, 0, 0, 0, 0, 0, 0, 0, 0, 0, 0, 0, 0, 0, 0, 0, 0, 0, 9, 0,\n",
            "        0, 0, 0, 0, 0, 0, 0, 0, 0, 0, 0, 0, 0, 0, 0, 0], device='cuda:0')\n"
          ]
        },
        {
          "output_type": "stream",
          "name": "stderr",
          "text": [
            "sampling loop time step:   4%|▎         | 36/1000 [00:08<02:46,  5.80it/s]"
          ]
        },
        {
          "output_type": "stream",
          "name": "stdout",
          "text": [
            "this is model mean torch.Size([64, 3, 32, 32])\n",
            "this is posterior variance torch.Size([64, 1, 1, 1])\n",
            "torch.Size([64, 3, 32, 32])\n",
            "tensor([0, 0, 0, 0, 0, 0, 0, 0, 0, 0, 0, 0, 0, 0, 0, 0, 0, 0, 0, 0, 0, 0, 0, 0,\n",
            "        0, 0, 0, 0, 0, 0, 0, 0, 0, 0, 0, 0, 0, 0, 0, 0, 0, 0, 0, 0, 0, 0, 9, 0,\n",
            "        0, 0, 0, 0, 0, 0, 0, 0, 0, 0, 0, 0, 0, 0, 0, 0], device='cuda:0')\n",
            "this is model mean torch.Size([64, 3, 32, 32])\n",
            "this is posterior variance torch.Size([64, 1, 1, 1])\n",
            "torch.Size([64, 3, 32, 32])\n",
            "tensor([0, 0, 0, 0, 0, 0, 0, 0, 0, 0, 0, 0, 0, 0, 0, 0, 0, 0, 0, 0, 0, 0, 0, 0,\n",
            "        0, 0, 0, 0, 0, 0, 0, 0, 0, 0, 0, 0, 0, 0, 0, 0, 0, 0, 0, 0, 0, 0, 9, 0,\n",
            "        0, 0, 0, 0, 0, 0, 0, 0, 0, 0, 0, 0, 0, 0, 0, 0], device='cuda:0')\n"
          ]
        },
        {
          "output_type": "stream",
          "name": "stderr",
          "text": [
            "sampling loop time step:   4%|▍         | 38/1000 [00:09<02:45,  5.80it/s]"
          ]
        },
        {
          "output_type": "stream",
          "name": "stdout",
          "text": [
            "this is model mean torch.Size([64, 3, 32, 32])\n",
            "this is posterior variance torch.Size([64, 1, 1, 1])\n",
            "torch.Size([64, 3, 32, 32])\n",
            "tensor([0, 0, 0, 0, 0, 0, 0, 0, 0, 0, 0, 0, 0, 0, 0, 0, 0, 0, 0, 0, 0, 0, 0, 0,\n",
            "        0, 0, 0, 0, 0, 0, 0, 0, 0, 0, 0, 0, 0, 0, 0, 0, 0, 0, 0, 0, 0, 0, 9, 0,\n",
            "        0, 0, 0, 0, 0, 0, 0, 0, 0, 0, 0, 0, 0, 0, 0, 0], device='cuda:0')\n",
            "this is model mean torch.Size([64, 3, 32, 32])\n",
            "this is posterior variance torch.Size([64, 1, 1, 1])\n",
            "torch.Size([64, 3, 32, 32])\n",
            "tensor([0, 0, 0, 0, 0, 0, 0, 0, 0, 0, 0, 0, 0, 0, 0, 0, 0, 0, 0, 0, 0, 0, 0, 0,\n",
            "        0, 0, 0, 0, 0, 0, 0, 0, 0, 0, 0, 0, 0, 0, 0, 0, 0, 0, 0, 0, 0, 0, 9, 0,\n",
            "        0, 0, 0, 0, 0, 0, 0, 0, 0, 0, 0, 0, 0, 0, 0, 0], device='cuda:0')\n"
          ]
        },
        {
          "output_type": "stream",
          "name": "stderr",
          "text": [
            "sampling loop time step:   4%|▍         | 40/1000 [00:09<02:44,  5.83it/s]"
          ]
        },
        {
          "output_type": "stream",
          "name": "stdout",
          "text": [
            "this is model mean torch.Size([64, 3, 32, 32])\n",
            "this is posterior variance torch.Size([64, 1, 1, 1])\n",
            "torch.Size([64, 3, 32, 32])\n",
            "tensor([0, 0, 0, 0, 0, 0, 0, 0, 0, 0, 0, 0, 0, 0, 0, 0, 0, 0, 0, 0, 0, 0, 0, 0,\n",
            "        0, 0, 0, 0, 0, 0, 0, 0, 0, 0, 0, 0, 0, 0, 0, 0, 0, 0, 0, 0, 0, 0, 9, 0,\n",
            "        0, 0, 0, 0, 0, 0, 0, 0, 0, 0, 0, 0, 0, 0, 0, 0], device='cuda:0')\n",
            "this is model mean torch.Size([64, 3, 32, 32])\n",
            "this is posterior variance torch.Size([64, 1, 1, 1])\n",
            "torch.Size([64, 3, 32, 32])\n",
            "tensor([0, 0, 0, 0, 0, 0, 0, 0, 0, 0, 0, 0, 0, 0, 0, 0, 0, 0, 0, 0, 0, 0, 0, 0,\n",
            "        0, 0, 0, 0, 0, 0, 0, 0, 0, 0, 0, 0, 0, 0, 0, 0, 0, 0, 0, 0, 0, 0, 9, 0,\n",
            "        0, 0, 0, 0, 0, 0, 0, 0, 0, 0, 0, 0, 0, 0, 0, 0], device='cuda:0')\n"
          ]
        },
        {
          "output_type": "stream",
          "name": "stderr",
          "text": [
            "sampling loop time step:   4%|▍         | 42/1000 [00:09<02:43,  5.85it/s]"
          ]
        },
        {
          "output_type": "stream",
          "name": "stdout",
          "text": [
            "this is model mean torch.Size([64, 3, 32, 32])\n",
            "this is posterior variance torch.Size([64, 1, 1, 1])\n",
            "torch.Size([64, 3, 32, 32])\n",
            "tensor([0, 0, 0, 0, 0, 0, 0, 0, 0, 0, 0, 0, 0, 0, 0, 0, 0, 0, 0, 0, 0, 0, 0, 0,\n",
            "        0, 0, 0, 0, 0, 0, 0, 0, 0, 0, 0, 0, 0, 0, 0, 0, 0, 0, 0, 0, 0, 0, 9, 0,\n",
            "        9, 0, 0, 0, 0, 0, 0, 0, 0, 0, 0, 0, 0, 0, 0, 0], device='cuda:0')\n",
            "this is model mean torch.Size([64, 3, 32, 32])\n",
            "this is posterior variance torch.Size([64, 1, 1, 1])\n",
            "torch.Size([64, 3, 32, 32])\n",
            "tensor([0, 0, 0, 0, 0, 0, 0, 0, 0, 0, 0, 0, 0, 0, 0, 0, 0, 0, 0, 0, 0, 0, 0, 0,\n",
            "        0, 0, 0, 0, 0, 0, 0, 0, 0, 0, 0, 0, 0, 0, 0, 0, 0, 0, 0, 0, 0, 0, 9, 0,\n",
            "        0, 0, 0, 0, 0, 0, 0, 0, 0, 0, 0, 0, 0, 0, 0, 0], device='cuda:0')\n"
          ]
        },
        {
          "output_type": "stream",
          "name": "stderr",
          "text": [
            "sampling loop time step:   4%|▍         | 44/1000 [00:10<02:43,  5.85it/s]"
          ]
        },
        {
          "output_type": "stream",
          "name": "stdout",
          "text": [
            "this is model mean torch.Size([64, 3, 32, 32])\n",
            "this is posterior variance torch.Size([64, 1, 1, 1])\n",
            "torch.Size([64, 3, 32, 32])\n",
            "tensor([0, 0, 0, 0, 0, 0, 0, 0, 0, 0, 0, 0, 0, 0, 0, 0, 0, 0, 0, 0, 0, 0, 0, 0,\n",
            "        0, 0, 0, 0, 0, 0, 0, 0, 0, 0, 0, 0, 0, 0, 0, 0, 0, 0, 0, 0, 0, 0, 9, 0,\n",
            "        0, 0, 0, 0, 0, 0, 0, 0, 0, 0, 0, 0, 0, 0, 0, 0], device='cuda:0')\n",
            "this is model mean torch.Size([64, 3, 32, 32])\n",
            "this is posterior variance torch.Size([64, 1, 1, 1])\n",
            "torch.Size([64, 3, 32, 32])\n",
            "tensor([0, 0, 0, 0, 0, 0, 0, 0, 0, 0, 0, 0, 0, 0, 0, 0, 0, 0, 0, 0, 0, 0, 0, 0,\n",
            "        0, 0, 0, 0, 0, 0, 0, 0, 0, 0, 0, 0, 0, 0, 0, 0, 0, 0, 0, 0, 0, 0, 9, 0,\n",
            "        0, 0, 0, 0, 0, 0, 0, 0, 0, 0, 0, 0, 0, 0, 0, 0], device='cuda:0')\n"
          ]
        },
        {
          "output_type": "stream",
          "name": "stderr",
          "text": [
            "sampling loop time step:   5%|▍         | 46/1000 [00:10<02:42,  5.86it/s]"
          ]
        },
        {
          "output_type": "stream",
          "name": "stdout",
          "text": [
            "this is model mean torch.Size([64, 3, 32, 32])\n",
            "this is posterior variance torch.Size([64, 1, 1, 1])\n",
            "torch.Size([64, 3, 32, 32])\n",
            "tensor([0, 0, 0, 0, 0, 0, 0, 0, 0, 0, 0, 0, 0, 0, 0, 0, 0, 0, 0, 0, 0, 0, 0, 0,\n",
            "        0, 0, 0, 0, 0, 0, 0, 0, 0, 0, 0, 0, 0, 0, 0, 0, 0, 0, 0, 0, 0, 0, 9, 0,\n",
            "        0, 0, 0, 0, 0, 0, 0, 0, 0, 0, 0, 0, 0, 0, 0, 0], device='cuda:0')\n",
            "this is model mean torch.Size([64, 3, 32, 32])\n",
            "this is posterior variance torch.Size([64, 1, 1, 1])\n",
            "torch.Size([64, 3, 32, 32])\n",
            "tensor([0, 0, 0, 0, 0, 0, 0, 0, 0, 0, 0, 0, 0, 0, 1, 0, 0, 0, 0, 0, 0, 0, 0, 0,\n",
            "        0, 0, 0, 0, 0, 0, 0, 0, 0, 0, 0, 0, 0, 0, 0, 0, 0, 0, 0, 0, 0, 0, 9, 0,\n",
            "        0, 0, 0, 0, 0, 0, 0, 0, 0, 0, 0, 0, 0, 0, 0, 0], device='cuda:0')\n"
          ]
        },
        {
          "output_type": "stream",
          "name": "stderr",
          "text": [
            "sampling loop time step:   5%|▍         | 48/1000 [00:10<02:42,  5.84it/s]"
          ]
        },
        {
          "output_type": "stream",
          "name": "stdout",
          "text": [
            "this is model mean torch.Size([64, 3, 32, 32])\n",
            "this is posterior variance torch.Size([64, 1, 1, 1])\n",
            "torch.Size([64, 3, 32, 32])\n",
            "tensor([0, 0, 0, 0, 0, 0, 0, 0, 0, 0, 0, 0, 0, 0, 0, 0, 0, 0, 0, 0, 0, 0, 0, 0,\n",
            "        0, 0, 0, 0, 0, 0, 0, 0, 0, 0, 0, 0, 0, 0, 0, 0, 0, 0, 0, 0, 0, 0, 9, 0,\n",
            "        0, 0, 0, 0, 0, 0, 0, 0, 0, 0, 0, 0, 0, 0, 0, 0], device='cuda:0')\n",
            "this is model mean torch.Size([64, 3, 32, 32])\n",
            "this is posterior variance torch.Size([64, 1, 1, 1])\n",
            "torch.Size([64, 3, 32, 32])\n",
            "tensor([0, 0, 0, 0, 0, 0, 0, 0, 0, 0, 0, 0, 0, 0, 0, 0, 0, 0, 0, 0, 0, 0, 0, 0,\n",
            "        0, 0, 0, 0, 0, 0, 0, 0, 0, 0, 0, 0, 0, 0, 0, 0, 0, 0, 0, 0, 0, 0, 9, 0,\n",
            "        0, 0, 0, 0, 0, 0, 0, 0, 0, 0, 0, 0, 0, 0, 0, 0], device='cuda:0')\n"
          ]
        },
        {
          "output_type": "stream",
          "name": "stderr",
          "text": [
            "sampling loop time step:   5%|▌         | 50/1000 [00:11<02:43,  5.81it/s]"
          ]
        },
        {
          "output_type": "stream",
          "name": "stdout",
          "text": [
            "this is model mean torch.Size([64, 3, 32, 32])\n",
            "this is posterior variance torch.Size([64, 1, 1, 1])\n",
            "torch.Size([64, 3, 32, 32])\n",
            "tensor([0, 0, 0, 0, 0, 0, 0, 0, 0, 0, 0, 0, 0, 0, 0, 0, 0, 0, 0, 0, 0, 0, 0, 0,\n",
            "        0, 0, 0, 0, 0, 0, 0, 0, 0, 0, 0, 0, 0, 0, 0, 0, 0, 0, 0, 0, 0, 0, 9, 0,\n",
            "        0, 0, 0, 0, 0, 0, 0, 0, 0, 0, 0, 0, 0, 0, 0, 0], device='cuda:0')\n",
            "this is model mean torch.Size([64, 3, 32, 32])\n",
            "this is posterior variance torch.Size([64, 1, 1, 1])\n",
            "torch.Size([64, 3, 32, 32])\n",
            "tensor([0, 0, 0, 0, 9, 0, 0, 0, 0, 0, 0, 0, 0, 0, 0, 0, 0, 0, 0, 0, 0, 0, 0, 0,\n",
            "        0, 0, 0, 0, 0, 0, 0, 0, 0, 0, 0, 0, 0, 0, 0, 0, 0, 0, 0, 0, 0, 0, 9, 0,\n",
            "        0, 0, 0, 0, 0, 0, 0, 0, 0, 0, 0, 0, 0, 0, 0, 0], device='cuda:0')\n"
          ]
        },
        {
          "output_type": "stream",
          "name": "stderr",
          "text": [
            "sampling loop time step:   5%|▌         | 52/1000 [00:11<02:45,  5.72it/s]"
          ]
        },
        {
          "output_type": "stream",
          "name": "stdout",
          "text": [
            "this is model mean torch.Size([64, 3, 32, 32])\n",
            "this is posterior variance torch.Size([64, 1, 1, 1])\n",
            "torch.Size([64, 3, 32, 32])\n",
            "tensor([0, 0, 0, 0, 1, 0, 0, 0, 0, 0, 0, 0, 0, 0, 0, 0, 0, 0, 0, 0, 0, 0, 0, 0,\n",
            "        0, 0, 0, 0, 0, 0, 0, 0, 0, 0, 0, 0, 0, 0, 0, 0, 0, 0, 0, 0, 0, 0, 0, 0,\n",
            "        0, 0, 0, 0, 0, 0, 0, 0, 0, 0, 0, 0, 0, 0, 0, 0], device='cuda:0')\n",
            "this is model mean torch.Size([64, 3, 32, 32])\n",
            "this is posterior variance torch.Size([64, 1, 1, 1])\n",
            "torch.Size([64, 3, 32, 32])\n",
            "tensor([0, 0, 0, 0, 9, 0, 0, 0, 0, 0, 0, 0, 0, 0, 0, 0, 0, 0, 0, 0, 0, 0, 0, 0,\n",
            "        0, 0, 0, 0, 0, 0, 0, 0, 0, 0, 0, 0, 0, 0, 0, 0, 0, 0, 0, 0, 0, 0, 0, 0,\n",
            "        0, 0, 0, 0, 0, 0, 0, 0, 0, 0, 0, 0, 0, 0, 0, 0], device='cuda:0')\n"
          ]
        },
        {
          "output_type": "stream",
          "name": "stderr",
          "text": [
            "sampling loop time step:   5%|▌         | 54/1000 [00:11<02:44,  5.76it/s]"
          ]
        },
        {
          "output_type": "stream",
          "name": "stdout",
          "text": [
            "this is model mean torch.Size([64, 3, 32, 32])\n",
            "this is posterior variance torch.Size([64, 1, 1, 1])\n",
            "torch.Size([64, 3, 32, 32])\n",
            "tensor([0, 0, 0, 0, 0, 0, 0, 2, 0, 0, 0, 0, 0, 0, 0, 0, 0, 0, 0, 0, 0, 0, 0, 0,\n",
            "        0, 0, 0, 0, 0, 0, 0, 0, 0, 0, 0, 0, 0, 0, 0, 0, 0, 0, 0, 0, 0, 0, 0, 0,\n",
            "        0, 0, 0, 0, 0, 0, 0, 0, 0, 0, 0, 0, 0, 0, 0, 0], device='cuda:0')\n",
            "this is model mean torch.Size([64, 3, 32, 32])\n",
            "this is posterior variance torch.Size([64, 1, 1, 1])\n",
            "torch.Size([64, 3, 32, 32])\n",
            "tensor([0, 0, 0, 0, 0, 0, 9, 1, 0, 0, 0, 0, 0, 0, 0, 0, 0, 0, 0, 0, 0, 0, 0, 0,\n",
            "        0, 0, 0, 0, 0, 0, 0, 0, 0, 0, 0, 0, 0, 0, 0, 0, 9, 0, 0, 0, 0, 0, 0, 0,\n",
            "        0, 0, 0, 0, 0, 0, 0, 0, 0, 0, 0, 0, 0, 0, 0, 0], device='cuda:0')\n"
          ]
        },
        {
          "output_type": "stream",
          "name": "stderr",
          "text": [
            "sampling loop time step:   6%|▌         | 56/1000 [00:12<02:43,  5.77it/s]"
          ]
        },
        {
          "output_type": "stream",
          "name": "stdout",
          "text": [
            "this is model mean torch.Size([64, 3, 32, 32])\n",
            "this is posterior variance torch.Size([64, 1, 1, 1])\n",
            "torch.Size([64, 3, 32, 32])\n",
            "tensor([0, 0, 0, 0, 0, 0, 0, 0, 0, 0, 0, 0, 0, 0, 0, 9, 0, 0, 0, 0, 0, 0, 0, 0,\n",
            "        0, 0, 0, 0, 9, 0, 0, 0, 0, 0, 0, 0, 0, 0, 0, 0, 0, 0, 0, 0, 0, 0, 0, 0,\n",
            "        0, 0, 0, 0, 0, 0, 0, 0, 0, 0, 0, 0, 0, 0, 0, 0], device='cuda:0')\n",
            "this is model mean torch.Size([64, 3, 32, 32])\n",
            "this is posterior variance torch.Size([64, 1, 1, 1])\n",
            "torch.Size([64, 3, 32, 32])\n",
            "tensor([0, 0, 0, 0, 0, 0, 0, 0, 0, 0, 0, 0, 0, 0, 0, 0, 0, 0, 0, 0, 0, 0, 0, 0,\n",
            "        0, 0, 0, 0, 0, 0, 0, 0, 0, 0, 0, 0, 0, 0, 3, 0, 0, 0, 0, 0, 0, 0, 0, 0,\n",
            "        0, 0, 0, 0, 0, 0, 0, 0, 0, 0, 0, 0, 0, 0, 0, 0], device='cuda:0')\n"
          ]
        },
        {
          "output_type": "stream",
          "name": "stderr",
          "text": [
            "sampling loop time step:   6%|▌         | 58/1000 [00:12<02:42,  5.79it/s]"
          ]
        },
        {
          "output_type": "stream",
          "name": "stdout",
          "text": [
            "this is model mean torch.Size([64, 3, 32, 32])\n",
            "this is posterior variance torch.Size([64, 1, 1, 1])\n",
            "torch.Size([64, 3, 32, 32])\n",
            "tensor([0, 0, 0, 0, 0, 0, 0, 0, 0, 0, 0, 0, 0, 0, 0, 0, 0, 0, 0, 0, 0, 0, 0, 0,\n",
            "        0, 0, 0, 0, 0, 0, 0, 0, 0, 0, 0, 0, 0, 0, 0, 0, 0, 0, 0, 0, 0, 0, 0, 0,\n",
            "        0, 0, 0, 0, 0, 0, 0, 0, 0, 0, 0, 0, 0, 0, 0, 0], device='cuda:0')\n",
            "this is model mean torch.Size([64, 3, 32, 32])\n",
            "this is posterior variance torch.Size([64, 1, 1, 1])\n",
            "torch.Size([64, 3, 32, 32])\n",
            "tensor([0, 0, 0, 0, 0, 0, 9, 0, 0, 0, 0, 0, 0, 0, 0, 0, 0, 0, 0, 0, 0, 0, 0, 0,\n",
            "        0, 0, 0, 0, 0, 0, 0, 0, 0, 0, 0, 0, 0, 0, 0, 3, 0, 0, 0, 0, 0, 0, 0, 0,\n",
            "        0, 0, 0, 0, 0, 0, 0, 0, 0, 0, 0, 0, 0, 0, 0, 0], device='cuda:0')\n"
          ]
        },
        {
          "output_type": "stream",
          "name": "stderr",
          "text": [
            "sampling loop time step:   6%|▌         | 60/1000 [00:12<02:41,  5.82it/s]"
          ]
        },
        {
          "output_type": "stream",
          "name": "stdout",
          "text": [
            "this is model mean torch.Size([64, 3, 32, 32])\n",
            "this is posterior variance torch.Size([64, 1, 1, 1])\n",
            "torch.Size([64, 3, 32, 32])\n",
            "tensor([0, 0, 0, 0, 0, 0, 0, 0, 0, 0, 0, 0, 0, 0, 0, 0, 0, 0, 0, 0, 0, 0, 0, 0,\n",
            "        0, 0, 0, 0, 0, 0, 0, 0, 0, 0, 0, 0, 0, 0, 0, 0, 0, 0, 0, 0, 0, 0, 0, 0,\n",
            "        0, 0, 0, 0, 0, 0, 0, 0, 0, 0, 0, 0, 0, 0, 0, 0], device='cuda:0')\n",
            "this is model mean torch.Size([64, 3, 32, 32])\n",
            "this is posterior variance torch.Size([64, 1, 1, 1])\n",
            "torch.Size([64, 3, 32, 32])\n",
            "tensor([0, 0, 0, 0, 0, 0, 0, 0, 0, 0, 0, 0, 0, 0, 0, 0, 0, 0, 0, 0, 0, 0, 0, 0,\n",
            "        0, 0, 0, 0, 0, 0, 0, 0, 0, 0, 0, 0, 0, 0, 0, 0, 0, 0, 0, 0, 0, 0, 0, 0,\n",
            "        0, 0, 0, 0, 0, 0, 0, 0, 0, 0, 0, 0, 0, 0, 0, 0], device='cuda:0')\n"
          ]
        },
        {
          "output_type": "stream",
          "name": "stderr",
          "text": [
            "sampling loop time step:   6%|▌         | 62/1000 [00:13<02:42,  5.78it/s]"
          ]
        },
        {
          "output_type": "stream",
          "name": "stdout",
          "text": [
            "this is model mean torch.Size([64, 3, 32, 32])\n",
            "this is posterior variance torch.Size([64, 1, 1, 1])\n",
            "torch.Size([64, 3, 32, 32])\n",
            "tensor([0, 0, 0, 0, 0, 0, 0, 0, 0, 0, 0, 0, 0, 0, 0, 0, 0, 0, 0, 0, 0, 0, 0, 0,\n",
            "        0, 0, 0, 0, 0, 0, 0, 0, 0, 0, 0, 0, 0, 0, 0, 0, 0, 0, 0, 0, 0, 0, 0, 0,\n",
            "        0, 0, 0, 0, 0, 0, 0, 0, 0, 0, 0, 0, 0, 0, 0, 0], device='cuda:0')\n",
            "this is model mean torch.Size([64, 3, 32, 32])\n",
            "this is posterior variance torch.Size([64, 1, 1, 1])\n",
            "torch.Size([64, 3, 32, 32])\n",
            "tensor([0, 0, 0, 0, 0, 0, 0, 0, 0, 0, 0, 0, 0, 0, 0, 0, 0, 0, 0, 0, 0, 0, 0, 0,\n",
            "        0, 0, 0, 0, 0, 0, 0, 0, 0, 0, 0, 0, 0, 0, 0, 0, 0, 0, 0, 0, 0, 0, 0, 0,\n",
            "        0, 0, 0, 0, 0, 0, 0, 0, 0, 0, 0, 0, 0, 0, 0, 0], device='cuda:0')\n"
          ]
        },
        {
          "output_type": "stream",
          "name": "stderr",
          "text": [
            "sampling loop time step:   6%|▋         | 64/1000 [00:13<02:42,  5.77it/s]"
          ]
        },
        {
          "output_type": "stream",
          "name": "stdout",
          "text": [
            "this is model mean torch.Size([64, 3, 32, 32])\n",
            "this is posterior variance torch.Size([64, 1, 1, 1])\n",
            "torch.Size([64, 3, 32, 32])\n",
            "tensor([0, 0, 0, 0, 0, 0, 0, 0, 0, 0, 0, 0, 0, 0, 0, 0, 0, 0, 0, 0, 0, 0, 0, 0,\n",
            "        0, 0, 0, 0, 0, 0, 0, 0, 0, 0, 0, 0, 0, 0, 0, 0, 0, 0, 0, 0, 0, 0, 3, 0,\n",
            "        0, 0, 0, 0, 0, 0, 0, 0, 0, 0, 0, 0, 0, 0, 0, 0], device='cuda:0')\n",
            "this is model mean torch.Size([64, 3, 32, 32])\n",
            "this is posterior variance torch.Size([64, 1, 1, 1])\n",
            "torch.Size([64, 3, 32, 32])\n",
            "tensor([0, 0, 0, 0, 0, 0, 0, 0, 0, 0, 0, 0, 0, 0, 0, 0, 0, 0, 0, 0, 0, 0, 0, 0,\n",
            "        0, 0, 0, 0, 0, 0, 0, 0, 0, 0, 0, 0, 0, 0, 0, 0, 0, 0, 0, 0, 0, 0, 0, 0,\n",
            "        0, 0, 0, 0, 0, 0, 0, 0, 0, 0, 0, 0, 0, 0, 0, 0], device='cuda:0')\n"
          ]
        },
        {
          "output_type": "stream",
          "name": "stderr",
          "text": [
            "sampling loop time step:   7%|▋         | 66/1000 [00:13<02:42,  5.74it/s]"
          ]
        },
        {
          "output_type": "stream",
          "name": "stdout",
          "text": [
            "this is model mean torch.Size([64, 3, 32, 32])\n",
            "this is posterior variance torch.Size([64, 1, 1, 1])\n",
            "torch.Size([64, 3, 32, 32])\n",
            "tensor([0, 0, 0, 0, 0, 0, 0, 0, 0, 0, 0, 0, 0, 0, 0, 0, 0, 0, 0, 0, 0, 0, 0, 0,\n",
            "        0, 0, 1, 0, 0, 0, 0, 0, 0, 0, 0, 0, 0, 0, 0, 0, 0, 0, 0, 0, 0, 0, 0, 0,\n",
            "        0, 0, 0, 0, 0, 0, 0, 0, 0, 0, 0, 0, 0, 0, 0, 9], device='cuda:0')\n",
            "this is model mean torch.Size([64, 3, 32, 32])\n",
            "this is posterior variance torch.Size([64, 1, 1, 1])\n",
            "torch.Size([64, 3, 32, 32])\n",
            "tensor([0, 0, 0, 0, 0, 0, 0, 0, 0, 0, 0, 0, 0, 0, 0, 0, 0, 0, 0, 0, 0, 0, 0, 0,\n",
            "        0, 0, 0, 0, 0, 0, 0, 0, 0, 0, 0, 0, 0, 0, 0, 0, 0, 0, 0, 0, 0, 0, 0, 0,\n",
            "        0, 0, 0, 0, 0, 0, 0, 0, 0, 0, 0, 0, 0, 0, 0, 0], device='cuda:0')\n"
          ]
        },
        {
          "output_type": "stream",
          "name": "stderr",
          "text": [
            "sampling loop time step:   7%|▋         | 68/1000 [00:14<02:43,  5.71it/s]"
          ]
        },
        {
          "output_type": "stream",
          "name": "stdout",
          "text": [
            "this is model mean torch.Size([64, 3, 32, 32])\n",
            "this is posterior variance torch.Size([64, 1, 1, 1])\n",
            "torch.Size([64, 3, 32, 32])\n",
            "tensor([0, 0, 0, 0, 0, 0, 0, 0, 0, 0, 0, 0, 0, 0, 0, 0, 0, 0, 0, 0, 0, 0, 0, 0,\n",
            "        0, 0, 0, 0, 0, 0, 0, 0, 0, 0, 0, 0, 0, 0, 0, 0, 0, 0, 0, 0, 0, 0, 0, 0,\n",
            "        0, 0, 0, 0, 0, 0, 0, 0, 0, 0, 0, 0, 0, 0, 0, 1], device='cuda:0')\n",
            "this is model mean torch.Size([64, 3, 32, 32])\n",
            "this is posterior variance torch.Size([64, 1, 1, 1])\n",
            "torch.Size([64, 3, 32, 32])\n",
            "tensor([0, 0, 0, 0, 0, 0, 9, 0, 0, 0, 0, 0, 0, 0, 0, 0, 0, 0, 0, 0, 0, 0, 0, 0,\n",
            "        0, 0, 0, 0, 0, 0, 0, 0, 0, 0, 1, 0, 0, 0, 0, 0, 0, 0, 0, 0, 0, 0, 0, 0,\n",
            "        0, 0, 0, 0, 0, 0, 0, 0, 0, 0, 0, 0, 0, 0, 0, 0], device='cuda:0')\n"
          ]
        },
        {
          "output_type": "stream",
          "name": "stderr",
          "text": [
            "sampling loop time step:   7%|▋         | 70/1000 [00:14<02:42,  5.74it/s]"
          ]
        },
        {
          "output_type": "stream",
          "name": "stdout",
          "text": [
            "this is model mean torch.Size([64, 3, 32, 32])\n",
            "this is posterior variance torch.Size([64, 1, 1, 1])\n",
            "torch.Size([64, 3, 32, 32])\n",
            "tensor([0, 0, 0, 0, 0, 0, 0, 0, 0, 0, 0, 0, 0, 0, 0, 0, 0, 0, 0, 0, 0, 0, 0, 0,\n",
            "        0, 0, 0, 0, 0, 0, 0, 0, 0, 0, 2, 0, 0, 0, 0, 0, 0, 0, 0, 0, 0, 0, 0, 0,\n",
            "        0, 0, 0, 0, 0, 0, 0, 0, 1, 0, 0, 0, 0, 0, 0, 0], device='cuda:0')\n",
            "this is model mean torch.Size([64, 3, 32, 32])\n",
            "this is posterior variance torch.Size([64, 1, 1, 1])\n",
            "torch.Size([64, 3, 32, 32])\n",
            "tensor([0, 0, 0, 0, 0, 0, 0, 0, 0, 0, 0, 0, 0, 0, 0, 0, 0, 0, 0, 0, 0, 0, 0, 0,\n",
            "        0, 0, 0, 0, 0, 0, 0, 0, 0, 0, 0, 0, 0, 0, 0, 0, 0, 0, 0, 0, 0, 1, 0, 0,\n",
            "        0, 0, 3, 0, 0, 0, 0, 0, 1, 0, 0, 0, 0, 0, 0, 0], device='cuda:0')\n"
          ]
        },
        {
          "output_type": "stream",
          "name": "stderr",
          "text": [
            "sampling loop time step:   7%|▋         | 72/1000 [00:14<02:40,  5.79it/s]"
          ]
        },
        {
          "output_type": "stream",
          "name": "stdout",
          "text": [
            "this is model mean torch.Size([64, 3, 32, 32])\n",
            "this is posterior variance torch.Size([64, 1, 1, 1])\n",
            "torch.Size([64, 3, 32, 32])\n",
            "tensor([0, 0, 0, 0, 0, 1, 0, 0, 0, 0, 0, 0, 0, 0, 0, 0, 0, 0, 0, 0, 0, 0, 0, 0,\n",
            "        0, 0, 0, 0, 0, 0, 0, 0, 0, 0, 0, 0, 0, 0, 0, 0, 0, 0, 0, 0, 0, 0, 0, 0,\n",
            "        0, 0, 0, 0, 0, 0, 0, 0, 9, 0, 0, 0, 0, 1, 0, 0], device='cuda:0')\n",
            "this is model mean torch.Size([64, 3, 32, 32])\n",
            "this is posterior variance torch.Size([64, 1, 1, 1])\n",
            "torch.Size([64, 3, 32, 32])\n",
            "tensor([0, 0, 0, 1, 0, 0, 0, 0, 0, 0, 0, 0, 0, 0, 0, 0, 0, 0, 0, 0, 0, 0, 0, 0,\n",
            "        0, 0, 0, 0, 0, 0, 0, 0, 0, 0, 0, 0, 0, 0, 0, 0, 0, 0, 0, 0, 0, 0, 0, 0,\n",
            "        0, 0, 0, 0, 0, 0, 0, 0, 0, 0, 0, 0, 0, 0, 0, 0], device='cuda:0')\n"
          ]
        },
        {
          "output_type": "stream",
          "name": "stderr",
          "text": [
            "sampling loop time step:   7%|▋         | 74/1000 [00:15<02:39,  5.80it/s]"
          ]
        },
        {
          "output_type": "stream",
          "name": "stdout",
          "text": [
            "this is model mean torch.Size([64, 3, 32, 32])\n",
            "this is posterior variance torch.Size([64, 1, 1, 1])\n",
            "torch.Size([64, 3, 32, 32])\n",
            "tensor([0, 0, 0, 0, 0, 0, 0, 0, 0, 0, 0, 0, 0, 0, 0, 0, 0, 0, 0, 0, 0, 0, 0, 0,\n",
            "        0, 0, 0, 0, 0, 0, 0, 0, 0, 0, 0, 0, 0, 0, 0, 0, 0, 0, 0, 0, 0, 0, 0, 0,\n",
            "        0, 0, 0, 0, 0, 0, 0, 0, 0, 0, 0, 0, 0, 0, 0, 0], device='cuda:0')\n",
            "this is model mean torch.Size([64, 3, 32, 32])\n",
            "this is posterior variance torch.Size([64, 1, 1, 1])\n",
            "torch.Size([64, 3, 32, 32])\n",
            "tensor([0, 0, 0, 0, 0, 0, 0, 0, 0, 0, 0, 0, 0, 0, 0, 0, 0, 0, 0, 0, 0, 0, 0, 0,\n",
            "        0, 0, 0, 0, 0, 0, 0, 0, 0, 1, 0, 0, 0, 0, 0, 0, 0, 0, 0, 0, 0, 0, 0, 0,\n",
            "        0, 0, 0, 0, 0, 0, 0, 0, 0, 0, 0, 0, 0, 0, 0, 0], device='cuda:0')\n"
          ]
        },
        {
          "output_type": "stream",
          "name": "stderr",
          "text": [
            "sampling loop time step:   8%|▊         | 76/1000 [00:15<02:39,  5.79it/s]"
          ]
        },
        {
          "output_type": "stream",
          "name": "stdout",
          "text": [
            "this is model mean torch.Size([64, 3, 32, 32])\n",
            "this is posterior variance torch.Size([64, 1, 1, 1])\n",
            "torch.Size([64, 3, 32, 32])\n",
            "tensor([0, 0, 0, 0, 0, 0, 0, 0, 0, 0, 0, 0, 0, 0, 0, 0, 3, 0, 0, 0, 0, 0, 0, 0,\n",
            "        0, 0, 0, 0, 0, 0, 0, 0, 0, 0, 0, 0, 0, 0, 0, 0, 0, 0, 0, 0, 0, 0, 0, 0,\n",
            "        0, 0, 0, 0, 0, 0, 0, 0, 0, 0, 0, 0, 0, 0, 0, 0], device='cuda:0')\n",
            "this is model mean torch.Size([64, 3, 32, 32])\n",
            "this is posterior variance torch.Size([64, 1, 1, 1])\n",
            "torch.Size([64, 3, 32, 32])\n",
            "tensor([0, 0, 0, 0, 0, 0, 0, 0, 0, 0, 0, 0, 0, 0, 0, 0, 1, 0, 0, 0, 0, 0, 0, 0,\n",
            "        0, 0, 0, 0, 0, 0, 0, 0, 0, 0, 0, 0, 0, 0, 0, 0, 0, 0, 0, 0, 0, 0, 0, 0,\n",
            "        0, 0, 0, 0, 0, 0, 0, 0, 0, 0, 0, 0, 0, 0, 0, 0], device='cuda:0')\n"
          ]
        },
        {
          "output_type": "stream",
          "name": "stderr",
          "text": [
            "sampling loop time step:   8%|▊         | 78/1000 [00:16<02:40,  5.75it/s]"
          ]
        },
        {
          "output_type": "stream",
          "name": "stdout",
          "text": [
            "this is model mean torch.Size([64, 3, 32, 32])\n",
            "this is posterior variance torch.Size([64, 1, 1, 1])\n",
            "torch.Size([64, 3, 32, 32])\n",
            "tensor([0, 0, 0, 0, 0, 0, 9, 0, 0, 0, 0, 0, 0, 0, 0, 0, 0, 0, 0, 0, 0, 0, 0, 0,\n",
            "        0, 0, 0, 0, 0, 0, 0, 0, 0, 0, 0, 0, 0, 0, 0, 0, 0, 0, 0, 0, 0, 0, 0, 0,\n",
            "        0, 0, 0, 0, 0, 0, 0, 0, 0, 0, 0, 0, 0, 0, 0, 0], device='cuda:0')\n",
            "this is model mean torch.Size([64, 3, 32, 32])\n",
            "this is posterior variance torch.Size([64, 1, 1, 1])\n",
            "torch.Size([64, 3, 32, 32])\n",
            "tensor([0, 0, 0, 0, 0, 0, 0, 0, 0, 0, 0, 0, 0, 0, 0, 0, 0, 0, 0, 0, 0, 0, 0, 0,\n",
            "        0, 0, 0, 0, 0, 0, 0, 0, 0, 0, 0, 0, 0, 0, 0, 0, 0, 0, 0, 0, 1, 0, 0, 0,\n",
            "        0, 0, 0, 0, 0, 0, 0, 0, 0, 0, 0, 0, 0, 0, 0, 0], device='cuda:0')\n"
          ]
        },
        {
          "output_type": "stream",
          "name": "stderr",
          "text": [
            "sampling loop time step:   8%|▊         | 80/1000 [00:16<02:41,  5.69it/s]"
          ]
        },
        {
          "output_type": "stream",
          "name": "stdout",
          "text": [
            "this is model mean torch.Size([64, 3, 32, 32])\n",
            "this is posterior variance torch.Size([64, 1, 1, 1])\n",
            "torch.Size([64, 3, 32, 32])\n",
            "tensor([0, 0, 0, 0, 0, 0, 0, 0, 0, 0, 0, 0, 0, 0, 0, 0, 0, 0, 0, 0, 0, 0, 0, 0,\n",
            "        0, 0, 0, 0, 0, 0, 0, 0, 0, 0, 0, 0, 0, 0, 0, 0, 0, 0, 0, 0, 0, 0, 0, 0,\n",
            "        0, 0, 0, 0, 0, 0, 0, 0, 0, 0, 0, 0, 0, 0, 0, 0], device='cuda:0')\n",
            "this is model mean torch.Size([64, 3, 32, 32])\n",
            "this is posterior variance torch.Size([64, 1, 1, 1])\n",
            "torch.Size([64, 3, 32, 32])\n",
            "tensor([0, 0, 0, 0, 0, 0, 0, 0, 0, 0, 0, 0, 0, 0, 0, 0, 0, 0, 0, 0, 0, 0, 0, 0,\n",
            "        0, 0, 0, 0, 0, 0, 0, 0, 0, 0, 0, 0, 0, 0, 0, 0, 0, 0, 0, 0, 0, 0, 0, 0,\n",
            "        0, 0, 0, 0, 0, 0, 0, 0, 0, 0, 0, 0, 0, 0, 0, 0], device='cuda:0')\n"
          ]
        },
        {
          "output_type": "stream",
          "name": "stderr",
          "text": [
            "sampling loop time step:   8%|▊         | 82/1000 [00:16<02:39,  5.74it/s]"
          ]
        },
        {
          "output_type": "stream",
          "name": "stdout",
          "text": [
            "this is model mean torch.Size([64, 3, 32, 32])\n",
            "this is posterior variance torch.Size([64, 1, 1, 1])\n",
            "torch.Size([64, 3, 32, 32])\n",
            "tensor([0, 0, 0, 0, 0, 0, 0, 0, 0, 0, 0, 0, 0, 0, 0, 0, 0, 0, 0, 0, 0, 0, 0, 0,\n",
            "        0, 0, 0, 0, 0, 0, 0, 0, 0, 0, 0, 0, 0, 0, 0, 0, 0, 0, 0, 0, 0, 0, 0, 0,\n",
            "        0, 0, 0, 0, 0, 0, 0, 0, 0, 0, 0, 0, 0, 0, 0, 0], device='cuda:0')\n",
            "this is model mean torch.Size([64, 3, 32, 32])\n",
            "this is posterior variance torch.Size([64, 1, 1, 1])\n",
            "torch.Size([64, 3, 32, 32])\n",
            "tensor([0, 0, 0, 0, 0, 0, 0, 0, 0, 0, 0, 0, 0, 0, 0, 0, 0, 0, 0, 0, 0, 0, 0, 0,\n",
            "        0, 0, 0, 0, 0, 0, 0, 0, 0, 0, 0, 0, 0, 0, 0, 0, 0, 0, 0, 0, 0, 0, 0, 0,\n",
            "        0, 0, 0, 0, 0, 0, 0, 0, 0, 0, 1, 0, 0, 0, 0, 0], device='cuda:0')\n"
          ]
        },
        {
          "output_type": "stream",
          "name": "stderr",
          "text": [
            "sampling loop time step:   8%|▊         | 84/1000 [00:17<02:38,  5.78it/s]"
          ]
        },
        {
          "output_type": "stream",
          "name": "stdout",
          "text": [
            "this is model mean torch.Size([64, 3, 32, 32])\n",
            "this is posterior variance torch.Size([64, 1, 1, 1])\n",
            "torch.Size([64, 3, 32, 32])\n",
            "tensor([0, 0, 0, 0, 0, 0, 0, 0, 0, 0, 0, 0, 0, 0, 0, 0, 0, 0, 0, 0, 0, 0, 0, 0,\n",
            "        0, 0, 0, 0, 0, 0, 0, 0, 0, 0, 0, 0, 0, 0, 0, 0, 0, 0, 0, 0, 0, 0, 0, 0,\n",
            "        0, 0, 0, 0, 0, 0, 0, 0, 0, 0, 0, 0, 0, 0, 0, 0], device='cuda:0')\n",
            "this is model mean torch.Size([64, 3, 32, 32])\n",
            "this is posterior variance torch.Size([64, 1, 1, 1])\n",
            "torch.Size([64, 3, 32, 32])\n",
            "tensor([0, 0, 0, 0, 0, 0, 0, 0, 0, 0, 0, 0, 0, 0, 0, 0, 0, 0, 0, 0, 0, 0, 0, 0,\n",
            "        0, 0, 0, 0, 0, 0, 0, 0, 0, 0, 0, 0, 0, 0, 0, 0, 0, 0, 0, 0, 0, 0, 0, 0,\n",
            "        0, 0, 0, 0, 0, 0, 0, 0, 0, 0, 0, 0, 0, 0, 0, 0], device='cuda:0')\n"
          ]
        },
        {
          "output_type": "stream",
          "name": "stderr",
          "text": [
            "sampling loop time step:   9%|▊         | 86/1000 [00:17<02:37,  5.79it/s]"
          ]
        },
        {
          "output_type": "stream",
          "name": "stdout",
          "text": [
            "this is model mean torch.Size([64, 3, 32, 32])\n",
            "this is posterior variance torch.Size([64, 1, 1, 1])\n",
            "torch.Size([64, 3, 32, 32])\n",
            "tensor([0, 0, 0, 0, 0, 0, 0, 0, 0, 0, 0, 0, 0, 0, 0, 0, 0, 0, 0, 0, 0, 0, 3, 0,\n",
            "        0, 0, 0, 0, 0, 1, 0, 0, 0, 0, 0, 0, 0, 0, 0, 0, 0, 0, 0, 0, 0, 0, 0, 0,\n",
            "        0, 0, 0, 0, 0, 0, 0, 0, 0, 0, 0, 0, 0, 0, 0, 0], device='cuda:0')\n",
            "this is model mean torch.Size([64, 3, 32, 32])\n",
            "this is posterior variance torch.Size([64, 1, 1, 1])\n",
            "torch.Size([64, 3, 32, 32])\n",
            "tensor([0, 0, 0, 0, 0, 0, 0, 0, 0, 0, 0, 0, 0, 0, 0, 0, 0, 0, 0, 0, 0, 0, 0, 0,\n",
            "        0, 0, 0, 0, 0, 0, 0, 0, 0, 0, 0, 0, 0, 0, 0, 0, 0, 0, 0, 0, 0, 0, 0, 0,\n",
            "        0, 0, 0, 0, 0, 0, 0, 0, 0, 0, 0, 0, 0, 0, 0, 0], device='cuda:0')\n"
          ]
        },
        {
          "output_type": "stream",
          "name": "stderr",
          "text": [
            "sampling loop time step:   9%|▉         | 88/1000 [00:17<02:36,  5.83it/s]"
          ]
        },
        {
          "output_type": "stream",
          "name": "stdout",
          "text": [
            "this is model mean torch.Size([64, 3, 32, 32])\n",
            "this is posterior variance torch.Size([64, 1, 1, 1])\n",
            "torch.Size([64, 3, 32, 32])\n",
            "tensor([1, 0, 0, 0, 0, 0, 0, 0, 0, 0, 0, 0, 0, 0, 0, 0, 0, 0, 0, 0, 0, 0, 0, 0,\n",
            "        0, 0, 0, 0, 0, 0, 0, 0, 0, 0, 0, 0, 0, 0, 0, 0, 0, 0, 0, 0, 0, 0, 0, 0,\n",
            "        0, 0, 0, 0, 0, 0, 0, 0, 0, 0, 0, 0, 0, 0, 0, 0], device='cuda:0')\n",
            "this is model mean torch.Size([64, 3, 32, 32])\n",
            "this is posterior variance torch.Size([64, 1, 1, 1])\n",
            "torch.Size([64, 3, 32, 32])\n",
            "tensor([9, 0, 0, 0, 0, 0, 0, 0, 0, 0, 0, 0, 0, 0, 0, 0, 0, 0, 0, 0, 0, 0, 0, 0,\n",
            "        0, 0, 0, 0, 0, 0, 0, 0, 0, 0, 0, 0, 0, 0, 0, 0, 0, 0, 0, 0, 0, 0, 0, 0,\n",
            "        0, 0, 0, 0, 0, 0, 0, 0, 0, 0, 0, 0, 0, 0, 0, 0], device='cuda:0')\n"
          ]
        },
        {
          "output_type": "stream",
          "name": "stderr",
          "text": [
            "sampling loop time step:   9%|▉         | 90/1000 [00:18<02:35,  5.84it/s]"
          ]
        },
        {
          "output_type": "stream",
          "name": "stdout",
          "text": [
            "this is model mean torch.Size([64, 3, 32, 32])\n",
            "this is posterior variance torch.Size([64, 1, 1, 1])\n",
            "torch.Size([64, 3, 32, 32])\n",
            "tensor([0, 0, 0, 0, 0, 0, 0, 0, 0, 0, 0, 0, 0, 0, 0, 0, 0, 0, 0, 0, 0, 0, 0, 0,\n",
            "        0, 0, 0, 0, 0, 0, 0, 0, 0, 0, 0, 0, 0, 0, 0, 0, 0, 0, 0, 0, 0, 0, 0, 0,\n",
            "        0, 0, 0, 0, 0, 0, 0, 0, 0, 1, 0, 0, 0, 0, 0, 0], device='cuda:0')\n",
            "this is model mean torch.Size([64, 3, 32, 32])\n",
            "this is posterior variance torch.Size([64, 1, 1, 1])\n",
            "torch.Size([64, 3, 32, 32])\n",
            "tensor([0, 0, 0, 0, 0, 0, 0, 0, 0, 0, 0, 0, 0, 0, 0, 0, 0, 0, 0, 0, 0, 0, 0, 0,\n",
            "        0, 0, 0, 0, 0, 0, 0, 1, 2, 0, 0, 0, 0, 0, 0, 0, 0, 0, 0, 0, 0, 0, 0, 0,\n",
            "        0, 0, 0, 0, 0, 0, 0, 0, 0, 0, 0, 0, 0, 0, 0, 0], device='cuda:0')\n"
          ]
        },
        {
          "output_type": "stream",
          "name": "stderr",
          "text": [
            "sampling loop time step:   9%|▉         | 92/1000 [00:18<02:36,  5.81it/s]"
          ]
        },
        {
          "output_type": "stream",
          "name": "stdout",
          "text": [
            "this is model mean torch.Size([64, 3, 32, 32])\n",
            "this is posterior variance torch.Size([64, 1, 1, 1])\n",
            "torch.Size([64, 3, 32, 32])\n",
            "tensor([0, 0, 0, 0, 0, 0, 0, 0, 0, 0, 0, 0, 0, 0, 0, 0, 0, 0, 0, 0, 0, 0, 0, 0,\n",
            "        0, 0, 0, 0, 0, 0, 0, 0, 1, 0, 0, 0, 0, 0, 0, 0, 0, 0, 0, 0, 0, 0, 0, 0,\n",
            "        0, 0, 0, 0, 0, 0, 0, 0, 0, 0, 0, 0, 0, 0, 0, 0], device='cuda:0')\n",
            "this is model mean torch.Size([64, 3, 32, 32])\n",
            "this is posterior variance torch.Size([64, 1, 1, 1])\n",
            "torch.Size([64, 3, 32, 32])\n",
            "tensor([0, 0, 0, 0, 0, 0, 0, 0, 0, 0, 0, 0, 0, 0, 0, 0, 0, 0, 0, 0, 0, 0, 0, 0,\n",
            "        0, 0, 0, 0, 0, 0, 0, 0, 9, 0, 0, 0, 0, 0, 0, 0, 0, 0, 0, 0, 0, 0, 0, 0,\n",
            "        0, 0, 0, 0, 0, 0, 0, 0, 0, 0, 0, 0, 0, 0, 0, 0], device='cuda:0')\n"
          ]
        },
        {
          "output_type": "stream",
          "name": "stderr",
          "text": [
            "sampling loop time step:   9%|▉         | 94/1000 [00:18<02:37,  5.76it/s]"
          ]
        },
        {
          "output_type": "stream",
          "name": "stdout",
          "text": [
            "this is model mean torch.Size([64, 3, 32, 32])\n",
            "this is posterior variance torch.Size([64, 1, 1, 1])\n",
            "torch.Size([64, 3, 32, 32])\n",
            "tensor([0, 0, 0, 0, 0, 0, 0, 0, 0, 0, 0, 0, 0, 0, 0, 0, 0, 0, 0, 0, 0, 0, 0, 0,\n",
            "        0, 0, 0, 0, 0, 0, 0, 0, 0, 0, 0, 0, 0, 0, 0, 0, 0, 0, 0, 0, 0, 0, 0, 0,\n",
            "        0, 0, 0, 0, 0, 0, 0, 0, 0, 0, 0, 0, 0, 0, 0, 0], device='cuda:0')\n",
            "this is model mean torch.Size([64, 3, 32, 32])\n",
            "this is posterior variance torch.Size([64, 1, 1, 1])\n",
            "torch.Size([64, 3, 32, 32])\n",
            "tensor([0, 0, 0, 0, 0, 0, 0, 0, 0, 0, 0, 0, 0, 0, 0, 0, 0, 0, 0, 0, 0, 0, 0, 0,\n",
            "        0, 0, 0, 0, 0, 0, 0, 0, 0, 0, 0, 0, 0, 0, 0, 0, 0, 0, 0, 0, 0, 0, 0, 0,\n",
            "        0, 0, 0, 0, 0, 0, 0, 0, 0, 0, 0, 0, 0, 0, 0, 0], device='cuda:0')\n"
          ]
        },
        {
          "output_type": "stream",
          "name": "stderr",
          "text": [
            "sampling loop time step:  10%|▉         | 96/1000 [00:19<02:36,  5.76it/s]"
          ]
        },
        {
          "output_type": "stream",
          "name": "stdout",
          "text": [
            "this is model mean torch.Size([64, 3, 32, 32])\n",
            "this is posterior variance torch.Size([64, 1, 1, 1])\n",
            "torch.Size([64, 3, 32, 32])\n",
            "tensor([0, 0, 0, 0, 0, 0, 0, 0, 0, 0, 0, 0, 0, 0, 0, 0, 0, 0, 0, 0, 0, 0, 0, 0,\n",
            "        0, 0, 0, 0, 0, 0, 0, 0, 0, 0, 0, 0, 0, 0, 0, 0, 0, 0, 0, 0, 0, 0, 0, 0,\n",
            "        0, 0, 0, 0, 0, 0, 0, 0, 0, 0, 0, 0, 0, 0, 0, 0], device='cuda:0')\n",
            "this is model mean torch.Size([64, 3, 32, 32])\n",
            "this is posterior variance torch.Size([64, 1, 1, 1])\n",
            "torch.Size([64, 3, 32, 32])\n",
            "tensor([0, 0, 0, 0, 0, 0, 0, 0, 0, 0, 0, 0, 0, 0, 0, 0, 0, 0, 0, 0, 0, 0, 0, 0,\n",
            "        0, 0, 0, 0, 0, 0, 0, 0, 0, 0, 0, 0, 0, 0, 0, 0, 0, 0, 0, 0, 0, 0, 0, 0,\n",
            "        0, 0, 0, 0, 0, 0, 0, 0, 0, 0, 0, 0, 0, 0, 0, 0], device='cuda:0')\n"
          ]
        },
        {
          "output_type": "stream",
          "name": "stderr",
          "text": [
            "sampling loop time step:  10%|▉         | 98/1000 [00:19<02:35,  5.80it/s]"
          ]
        },
        {
          "output_type": "stream",
          "name": "stdout",
          "text": [
            "this is model mean torch.Size([64, 3, 32, 32])\n",
            "this is posterior variance torch.Size([64, 1, 1, 1])\n",
            "torch.Size([64, 3, 32, 32])\n",
            "tensor([0, 0, 0, 0, 0, 0, 0, 0, 0, 0, 0, 0, 0, 0, 0, 0, 0, 0, 0, 0, 0, 1, 0, 0,\n",
            "        0, 0, 0, 0, 0, 0, 0, 0, 0, 0, 0, 0, 0, 0, 0, 0, 0, 0, 0, 0, 0, 0, 0, 0,\n",
            "        0, 0, 0, 0, 0, 0, 0, 0, 0, 0, 0, 0, 0, 0, 0, 0], device='cuda:0')\n",
            "this is model mean torch.Size([64, 3, 32, 32])\n",
            "this is posterior variance torch.Size([64, 1, 1, 1])\n",
            "torch.Size([64, 3, 32, 32])\n",
            "tensor([0, 0, 0, 0, 0, 0, 0, 0, 0, 0, 0, 0, 0, 0, 0, 1, 0, 0, 0, 0, 0, 0, 0, 0,\n",
            "        0, 0, 0, 0, 0, 0, 0, 0, 0, 0, 0, 0, 0, 0, 0, 0, 0, 0, 0, 0, 0, 0, 0, 0,\n",
            "        0, 0, 0, 0, 0, 0, 0, 0, 0, 0, 0, 0, 0, 0, 0, 0], device='cuda:0')\n"
          ]
        },
        {
          "output_type": "stream",
          "name": "stderr",
          "text": [
            "sampling loop time step:  10%|█         | 100/1000 [00:19<02:35,  5.78it/s]"
          ]
        },
        {
          "output_type": "stream",
          "name": "stdout",
          "text": [
            "this is model mean torch.Size([64, 3, 32, 32])\n",
            "this is posterior variance torch.Size([64, 1, 1, 1])\n",
            "torch.Size([64, 3, 32, 32])\n",
            "tensor([0, 0, 0, 0, 0, 0, 0, 0, 0, 0, 0, 0, 0, 0, 0, 0, 0, 0, 0, 0, 0, 0, 0, 0,\n",
            "        0, 0, 0, 0, 0, 0, 0, 0, 0, 0, 0, 0, 0, 0, 0, 0, 0, 0, 0, 0, 0, 0, 0, 0,\n",
            "        0, 0, 0, 0, 0, 0, 0, 0, 0, 0, 0, 0, 0, 0, 0, 0], device='cuda:0')\n",
            "this is model mean torch.Size([64, 3, 32, 32])\n",
            "this is posterior variance torch.Size([64, 1, 1, 1])\n",
            "torch.Size([64, 3, 32, 32])\n",
            "tensor([0, 0, 0, 0, 0, 0, 0, 0, 0, 0, 0, 0, 0, 0, 0, 0, 0, 0, 0, 0, 0, 0, 0, 0,\n",
            "        0, 0, 0, 0, 0, 0, 0, 0, 0, 0, 0, 0, 0, 0, 0, 0, 0, 0, 0, 0, 0, 0, 0, 0,\n",
            "        0, 0, 0, 0, 0, 0, 0, 0, 0, 0, 0, 0, 0, 0, 0, 0], device='cuda:0')\n"
          ]
        },
        {
          "output_type": "stream",
          "name": "stderr",
          "text": [
            "sampling loop time step:  10%|█         | 102/1000 [00:20<02:34,  5.82it/s]"
          ]
        },
        {
          "output_type": "stream",
          "name": "stdout",
          "text": [
            "this is model mean torch.Size([64, 3, 32, 32])\n",
            "this is posterior variance torch.Size([64, 1, 1, 1])\n",
            "torch.Size([64, 3, 32, 32])\n",
            "tensor([0, 0, 0, 0, 0, 0, 0, 0, 0, 0, 0, 0, 0, 0, 0, 0, 0, 0, 0, 0, 0, 0, 0, 0,\n",
            "        0, 0, 0, 0, 0, 0, 0, 0, 0, 0, 0, 0, 0, 0, 0, 0, 0, 0, 0, 0, 0, 0, 0, 0,\n",
            "        0, 0, 0, 0, 0, 0, 0, 0, 0, 0, 0, 0, 0, 0, 0, 0], device='cuda:0')\n",
            "this is model mean torch.Size([64, 3, 32, 32])\n",
            "this is posterior variance torch.Size([64, 1, 1, 1])\n",
            "torch.Size([64, 3, 32, 32])\n",
            "tensor([0, 0, 0, 0, 0, 0, 0, 0, 0, 0, 0, 0, 0, 0, 0, 0, 0, 0, 0, 0, 0, 0, 0, 0,\n",
            "        0, 0, 0, 0, 0, 0, 0, 0, 0, 0, 0, 0, 0, 0, 0, 0, 0, 0, 0, 0, 0, 0, 0, 0,\n",
            "        0, 0, 0, 0, 0, 0, 0, 0, 0, 0, 0, 0, 0, 0, 0, 0], device='cuda:0')\n"
          ]
        },
        {
          "output_type": "stream",
          "name": "stderr",
          "text": [
            "sampling loop time step:  10%|█         | 104/1000 [00:20<02:34,  5.79it/s]"
          ]
        },
        {
          "output_type": "stream",
          "name": "stdout",
          "text": [
            "this is model mean torch.Size([64, 3, 32, 32])\n",
            "this is posterior variance torch.Size([64, 1, 1, 1])\n",
            "torch.Size([64, 3, 32, 32])\n",
            "tensor([0, 0, 0, 0, 0, 0, 0, 0, 0, 0, 0, 0, 0, 0, 0, 0, 0, 0, 0, 0, 0, 0, 0, 0,\n",
            "        0, 0, 0, 0, 0, 0, 0, 0, 0, 0, 0, 0, 0, 0, 0, 0, 0, 0, 0, 0, 0, 0, 0, 0,\n",
            "        0, 0, 0, 0, 0, 0, 0, 0, 0, 0, 0, 0, 0, 0, 0, 0], device='cuda:0')\n",
            "this is model mean torch.Size([64, 3, 32, 32])\n",
            "this is posterior variance torch.Size([64, 1, 1, 1])\n",
            "torch.Size([64, 3, 32, 32])\n",
            "tensor([0, 0, 0, 0, 0, 0, 0, 0, 0, 0, 0, 0, 0, 0, 0, 0, 0, 0, 0, 0, 0, 0, 0, 0,\n",
            "        0, 0, 0, 0, 0, 0, 0, 0, 0, 0, 0, 0, 0, 0, 0, 0, 0, 0, 0, 0, 0, 0, 0, 0,\n",
            "        0, 0, 0, 0, 0, 1, 0, 0, 0, 0, 0, 0, 0, 0, 0, 0], device='cuda:0')\n"
          ]
        },
        {
          "output_type": "stream",
          "name": "stderr",
          "text": [
            "sampling loop time step:  11%|█         | 106/1000 [00:20<02:34,  5.78it/s]"
          ]
        },
        {
          "output_type": "stream",
          "name": "stdout",
          "text": [
            "this is model mean torch.Size([64, 3, 32, 32])\n",
            "this is posterior variance torch.Size([64, 1, 1, 1])\n",
            "torch.Size([64, 3, 32, 32])\n",
            "tensor([0, 0, 0, 0, 0, 0, 0, 0, 0, 0, 0, 0, 0, 0, 0, 0, 0, 0, 0, 0, 0, 0, 0, 0,\n",
            "        0, 0, 0, 0, 0, 0, 0, 0, 0, 0, 0, 0, 0, 0, 0, 0, 0, 0, 0, 0, 0, 0, 0, 0,\n",
            "        0, 0, 0, 0, 0, 9, 0, 0, 0, 0, 0, 0, 0, 0, 0, 0], device='cuda:0')\n",
            "this is model mean torch.Size([64, 3, 32, 32])\n",
            "this is posterior variance torch.Size([64, 1, 1, 1])\n",
            "torch.Size([64, 3, 32, 32])\n",
            "tensor([0, 0, 0, 0, 0, 0, 0, 0, 0, 0, 0, 0, 0, 0, 0, 0, 0, 0, 0, 0, 0, 0, 0, 0,\n",
            "        0, 0, 0, 0, 0, 0, 0, 0, 0, 0, 0, 0, 0, 0, 0, 0, 0, 0, 0, 0, 0, 0, 0, 0,\n",
            "        0, 0, 0, 0, 0, 0, 0, 0, 0, 0, 0, 0, 0, 0, 0, 0], device='cuda:0')\n"
          ]
        },
        {
          "output_type": "stream",
          "name": "stderr",
          "text": [
            "sampling loop time step:  11%|█         | 108/1000 [00:21<02:34,  5.76it/s]"
          ]
        },
        {
          "output_type": "stream",
          "name": "stdout",
          "text": [
            "this is model mean torch.Size([64, 3, 32, 32])\n",
            "this is posterior variance torch.Size([64, 1, 1, 1])\n",
            "torch.Size([64, 3, 32, 32])\n",
            "tensor([0, 0, 0, 0, 0, 0, 0, 0, 0, 0, 0, 0, 0, 0, 0, 0, 0, 0, 0, 0, 0, 0, 0, 0,\n",
            "        0, 0, 0, 0, 0, 0, 0, 0, 0, 0, 0, 0, 0, 0, 0, 0, 0, 0, 0, 0, 0, 0, 0, 0,\n",
            "        0, 0, 3, 0, 0, 0, 0, 0, 0, 0, 0, 0, 0, 0, 0, 0], device='cuda:0')\n",
            "this is model mean torch.Size([64, 3, 32, 32])\n",
            "this is posterior variance torch.Size([64, 1, 1, 1])\n",
            "torch.Size([64, 3, 32, 32])\n",
            "tensor([0, 9, 0, 0, 0, 0, 0, 0, 0, 0, 0, 0, 0, 0, 0, 0, 0, 0, 0, 0, 0, 0, 0, 0,\n",
            "        0, 0, 0, 0, 0, 0, 0, 0, 0, 0, 0, 0, 0, 0, 0, 0, 0, 0, 0, 0, 0, 0, 0, 0,\n",
            "        0, 0, 1, 0, 0, 0, 0, 0, 0, 0, 0, 0, 0, 0, 0, 0], device='cuda:0')\n"
          ]
        },
        {
          "output_type": "stream",
          "name": "stderr",
          "text": [
            "sampling loop time step:  11%|█         | 110/1000 [00:21<02:35,  5.73it/s]"
          ]
        },
        {
          "output_type": "stream",
          "name": "stdout",
          "text": [
            "this is model mean torch.Size([64, 3, 32, 32])\n",
            "this is posterior variance torch.Size([64, 1, 1, 1])\n",
            "torch.Size([64, 3, 32, 32])\n",
            "tensor([0, 1, 0, 0, 0, 0, 0, 0, 0, 0, 0, 0, 0, 0, 0, 0, 0, 0, 0, 0, 0, 0, 0, 0,\n",
            "        0, 0, 0, 0, 0, 0, 0, 0, 0, 0, 0, 0, 0, 0, 0, 0, 0, 0, 0, 0, 0, 0, 0, 0,\n",
            "        0, 0, 9, 0, 0, 0, 0, 0, 0, 0, 0, 0, 0, 0, 0, 0], device='cuda:0')\n",
            "this is model mean torch.Size([64, 3, 32, 32])\n",
            "this is posterior variance torch.Size([64, 1, 1, 1])\n",
            "torch.Size([64, 3, 32, 32])\n",
            "tensor([0, 1, 0, 0, 0, 0, 0, 0, 0, 0, 0, 3, 0, 0, 0, 0, 0, 0, 0, 0, 0, 0, 0, 0,\n",
            "        0, 0, 0, 0, 1, 0, 0, 0, 0, 0, 0, 0, 0, 0, 0, 0, 0, 0, 0, 0, 0, 0, 0, 0,\n",
            "        0, 0, 0, 0, 0, 0, 0, 0, 0, 0, 0, 0, 0, 0, 0, 0], device='cuda:0')\n"
          ]
        },
        {
          "output_type": "stream",
          "name": "stderr",
          "text": [
            "sampling loop time step:  11%|█         | 112/1000 [00:21<02:33,  5.78it/s]"
          ]
        },
        {
          "output_type": "stream",
          "name": "stdout",
          "text": [
            "this is model mean torch.Size([64, 3, 32, 32])\n",
            "this is posterior variance torch.Size([64, 1, 1, 1])\n",
            "torch.Size([64, 3, 32, 32])\n",
            "tensor([0, 0, 0, 0, 0, 0, 0, 0, 0, 0, 0, 0, 0, 0, 0, 0, 0, 0, 1, 0, 0, 0, 0, 0,\n",
            "        0, 0, 0, 0, 0, 0, 0, 0, 0, 0, 0, 0, 0, 0, 0, 0, 0, 0, 0, 0, 0, 0, 0, 0,\n",
            "        0, 0, 0, 0, 0, 0, 0, 0, 0, 0, 0, 0, 0, 0, 0, 0], device='cuda:0')\n",
            "this is model mean torch.Size([64, 3, 32, 32])\n",
            "this is posterior variance torch.Size([64, 1, 1, 1])\n",
            "torch.Size([64, 3, 32, 32])\n",
            "tensor([0, 0, 0, 0, 0, 0, 0, 0, 0, 0, 0, 0, 0, 0, 0, 0, 0, 1, 0, 0, 0, 0, 0, 0,\n",
            "        0, 0, 0, 0, 0, 0, 0, 0, 0, 0, 0, 0, 0, 0, 0, 0, 0, 0, 0, 0, 0, 0, 0, 0,\n",
            "        0, 0, 0, 0, 0, 0, 9, 0, 0, 0, 0, 0, 0, 0, 0, 0], device='cuda:0')\n"
          ]
        },
        {
          "output_type": "stream",
          "name": "stderr",
          "text": [
            "sampling loop time step:  11%|█▏        | 114/1000 [00:22<02:32,  5.80it/s]"
          ]
        },
        {
          "output_type": "stream",
          "name": "stdout",
          "text": [
            "this is model mean torch.Size([64, 3, 32, 32])\n",
            "this is posterior variance torch.Size([64, 1, 1, 1])\n",
            "torch.Size([64, 3, 32, 32])\n",
            "tensor([0, 0, 0, 0, 0, 0, 0, 0, 0, 0, 0, 0, 0, 0, 0, 0, 0, 9, 0, 0, 0, 0, 0, 0,\n",
            "        0, 0, 0, 0, 0, 0, 0, 0, 0, 0, 0, 0, 0, 0, 0, 0, 0, 0, 0, 0, 0, 0, 0, 0,\n",
            "        0, 0, 0, 0, 0, 0, 0, 0, 0, 0, 0, 0, 0, 0, 0, 0], device='cuda:0')\n",
            "this is model mean torch.Size([64, 3, 32, 32])\n",
            "this is posterior variance torch.Size([64, 1, 1, 1])\n",
            "torch.Size([64, 3, 32, 32])\n",
            "tensor([0, 0, 0, 0, 0, 0, 0, 0, 0, 0, 0, 0, 0, 0, 0, 0, 0, 9, 0, 0, 0, 0, 0, 0,\n",
            "        0, 0, 0, 0, 0, 0, 0, 0, 0, 0, 0, 0, 0, 0, 0, 0, 0, 0, 0, 0, 0, 0, 0, 0,\n",
            "        0, 0, 0, 0, 0, 0, 0, 0, 0, 0, 0, 0, 0, 0, 0, 0], device='cuda:0')\n"
          ]
        },
        {
          "output_type": "stream",
          "name": "stderr",
          "text": [
            "sampling loop time step:  12%|█▏        | 116/1000 [00:22<02:33,  5.76it/s]"
          ]
        },
        {
          "output_type": "stream",
          "name": "stdout",
          "text": [
            "this is model mean torch.Size([64, 3, 32, 32])\n",
            "this is posterior variance torch.Size([64, 1, 1, 1])\n",
            "torch.Size([64, 3, 32, 32])\n",
            "tensor([0, 0, 0, 0, 0, 0, 0, 0, 0, 0, 0, 0, 0, 0, 0, 0, 0, 0, 0, 0, 0, 0, 0, 0,\n",
            "        0, 0, 0, 0, 0, 0, 0, 0, 0, 0, 0, 0, 0, 0, 0, 0, 0, 0, 0, 0, 0, 0, 0, 0,\n",
            "        0, 0, 0, 0, 0, 0, 0, 0, 0, 0, 0, 0, 0, 0, 0, 0], device='cuda:0')\n",
            "this is model mean torch.Size([64, 3, 32, 32])\n",
            "this is posterior variance torch.Size([64, 1, 1, 1])\n",
            "torch.Size([64, 3, 32, 32])\n",
            "tensor([0, 0, 0, 0, 0, 0, 0, 0, 0, 0, 0, 0, 0, 0, 0, 0, 0, 0, 0, 0, 0, 0, 0, 0,\n",
            "        0, 0, 0, 0, 0, 0, 0, 0, 0, 0, 0, 0, 0, 0, 0, 0, 0, 0, 0, 0, 0, 0, 0, 0,\n",
            "        0, 0, 0, 0, 0, 0, 0, 0, 0, 9, 0, 0, 0, 0, 0, 0], device='cuda:0')\n"
          ]
        },
        {
          "output_type": "stream",
          "name": "stderr",
          "text": [
            "sampling loop time step:  12%|█▏        | 118/1000 [00:22<02:32,  5.79it/s]"
          ]
        },
        {
          "output_type": "stream",
          "name": "stdout",
          "text": [
            "this is model mean torch.Size([64, 3, 32, 32])\n",
            "this is posterior variance torch.Size([64, 1, 1, 1])\n",
            "torch.Size([64, 3, 32, 32])\n",
            "tensor([0, 0, 0, 0, 0, 0, 0, 0, 0, 0, 0, 0, 0, 0, 0, 0, 0, 0, 0, 0, 0, 0, 0, 0,\n",
            "        0, 0, 0, 0, 0, 0, 0, 0, 0, 0, 0, 0, 0, 0, 0, 0, 0, 0, 0, 0, 0, 0, 0, 0,\n",
            "        0, 0, 0, 0, 0, 0, 0, 0, 0, 0, 0, 0, 0, 0, 0, 0], device='cuda:0')\n",
            "this is model mean torch.Size([64, 3, 32, 32])\n",
            "this is posterior variance torch.Size([64, 1, 1, 1])\n",
            "torch.Size([64, 3, 32, 32])\n",
            "tensor([0, 0, 0, 0, 0, 0, 0, 0, 0, 0, 0, 0, 0, 0, 0, 0, 0, 0, 0, 0, 0, 0, 0, 0,\n",
            "        0, 0, 0, 0, 0, 0, 0, 0, 0, 0, 0, 0, 0, 0, 0, 0, 0, 0, 0, 0, 0, 0, 0, 0,\n",
            "        0, 0, 0, 0, 0, 0, 0, 0, 0, 0, 0, 0, 0, 0, 0, 0], device='cuda:0')\n"
          ]
        },
        {
          "output_type": "stream",
          "name": "stderr",
          "text": [
            "sampling loop time step:  12%|█▏        | 120/1000 [00:23<02:31,  5.82it/s]"
          ]
        },
        {
          "output_type": "stream",
          "name": "stdout",
          "text": [
            "this is model mean torch.Size([64, 3, 32, 32])\n",
            "this is posterior variance torch.Size([64, 1, 1, 1])\n",
            "torch.Size([64, 3, 32, 32])\n",
            "tensor([0, 0, 0, 0, 0, 0, 0, 0, 0, 0, 0, 0, 0, 0, 0, 0, 0, 0, 0, 0, 0, 0, 0, 0,\n",
            "        0, 0, 0, 0, 0, 0, 0, 0, 0, 0, 0, 0, 0, 0, 0, 0, 0, 0, 0, 0, 0, 0, 0, 0,\n",
            "        0, 0, 0, 0, 0, 0, 0, 0, 0, 0, 0, 9, 0, 0, 0, 0], device='cuda:0')\n",
            "this is model mean torch.Size([64, 3, 32, 32])\n",
            "this is posterior variance torch.Size([64, 1, 1, 1])\n",
            "torch.Size([64, 3, 32, 32])\n",
            "tensor([0, 0, 0, 0, 0, 0, 0, 0, 0, 0, 0, 0, 0, 0, 0, 0, 0, 0, 0, 0, 0, 0, 0, 0,\n",
            "        0, 0, 0, 0, 0, 0, 0, 0, 0, 0, 0, 0, 0, 0, 0, 0, 0, 0, 0, 0, 0, 0, 0, 0,\n",
            "        0, 0, 0, 0, 0, 0, 0, 0, 0, 0, 0, 0, 0, 0, 0, 0], device='cuda:0')\n"
          ]
        },
        {
          "output_type": "stream",
          "name": "stderr",
          "text": [
            "sampling loop time step:  12%|█▏        | 122/1000 [00:23<02:31,  5.79it/s]"
          ]
        },
        {
          "output_type": "stream",
          "name": "stdout",
          "text": [
            "this is model mean torch.Size([64, 3, 32, 32])\n",
            "this is posterior variance torch.Size([64, 1, 1, 1])\n",
            "torch.Size([64, 3, 32, 32])\n",
            "tensor([1, 0, 0, 0, 0, 0, 0, 0, 0, 0, 0, 0, 0, 0, 0, 0, 0, 0, 0, 0, 0, 0, 0, 0,\n",
            "        0, 0, 0, 0, 0, 0, 0, 0, 0, 0, 0, 0, 0, 0, 0, 0, 0, 0, 0, 0, 0, 0, 0, 0,\n",
            "        0, 0, 0, 0, 0, 0, 0, 0, 0, 0, 0, 0, 0, 0, 0, 0], device='cuda:0')\n",
            "this is model mean torch.Size([64, 3, 32, 32])\n",
            "this is posterior variance torch.Size([64, 1, 1, 1])\n",
            "torch.Size([64, 3, 32, 32])\n",
            "tensor([0, 0, 0, 0, 0, 0, 0, 0, 0, 0, 0, 0, 0, 0, 0, 0, 0, 0, 0, 0, 0, 0, 0, 0,\n",
            "        0, 0, 0, 0, 0, 0, 0, 0, 0, 0, 0, 0, 0, 0, 0, 0, 0, 0, 0, 0, 0, 0, 0, 0,\n",
            "        0, 0, 0, 0, 0, 0, 0, 0, 0, 0, 0, 0, 0, 0, 0, 0], device='cuda:0')\n"
          ]
        },
        {
          "output_type": "stream",
          "name": "stderr",
          "text": [
            "sampling loop time step:  12%|█▏        | 124/1000 [00:23<02:31,  5.77it/s]"
          ]
        },
        {
          "output_type": "stream",
          "name": "stdout",
          "text": [
            "this is model mean torch.Size([64, 3, 32, 32])\n",
            "this is posterior variance torch.Size([64, 1, 1, 1])\n",
            "torch.Size([64, 3, 32, 32])\n",
            "tensor([0, 0, 0, 0, 0, 0, 0, 0, 0, 0, 0, 0, 0, 0, 0, 0, 0, 0, 0, 0, 0, 0, 0, 0,\n",
            "        0, 0, 0, 0, 0, 0, 0, 0, 0, 0, 0, 0, 0, 0, 0, 0, 0, 0, 0, 0, 0, 0, 0, 0,\n",
            "        0, 0, 0, 0, 0, 0, 0, 0, 0, 0, 0, 0, 0, 0, 0, 0], device='cuda:0')\n",
            "this is model mean torch.Size([64, 3, 32, 32])\n",
            "this is posterior variance torch.Size([64, 1, 1, 1])\n",
            "torch.Size([64, 3, 32, 32])\n",
            "tensor([0, 0, 0, 0, 0, 0, 0, 0, 0, 0, 0, 0, 0, 0, 0, 0, 0, 0, 0, 0, 0, 0, 0, 0,\n",
            "        0, 0, 0, 0, 0, 0, 0, 0, 0, 0, 0, 0, 0, 0, 0, 0, 0, 0, 0, 0, 0, 0, 0, 0,\n",
            "        0, 0, 0, 0, 0, 0, 0, 0, 0, 0, 0, 0, 0, 0, 0, 0], device='cuda:0')\n"
          ]
        },
        {
          "output_type": "stream",
          "name": "stderr",
          "text": [
            "sampling loop time step:  13%|█▎        | 126/1000 [00:24<02:31,  5.78it/s]"
          ]
        },
        {
          "output_type": "stream",
          "name": "stdout",
          "text": [
            "this is model mean torch.Size([64, 3, 32, 32])\n",
            "this is posterior variance torch.Size([64, 1, 1, 1])\n",
            "torch.Size([64, 3, 32, 32])\n",
            "tensor([0, 0, 0, 0, 0, 0, 0, 0, 0, 0, 0, 0, 0, 0, 0, 9, 0, 0, 0, 0, 0, 0, 0, 0,\n",
            "        0, 0, 0, 0, 0, 0, 0, 0, 0, 0, 0, 0, 0, 0, 0, 0, 0, 0, 0, 0, 0, 0, 0, 0,\n",
            "        0, 0, 0, 0, 0, 0, 0, 0, 0, 0, 0, 0, 0, 0, 0, 0], device='cuda:0')\n",
            "this is model mean torch.Size([64, 3, 32, 32])\n",
            "this is posterior variance torch.Size([64, 1, 1, 1])\n",
            "torch.Size([64, 3, 32, 32])\n",
            "tensor([0, 0, 0, 0, 0, 0, 0, 0, 0, 0, 0, 0, 0, 0, 0, 0, 0, 0, 0, 0, 0, 0, 0, 0,\n",
            "        2, 0, 3, 1, 0, 0, 0, 0, 0, 0, 0, 0, 0, 0, 0, 0, 0, 0, 0, 0, 0, 0, 0, 0,\n",
            "        0, 0, 0, 0, 0, 0, 0, 0, 0, 0, 0, 0, 0, 0, 0, 0], device='cuda:0')\n"
          ]
        },
        {
          "output_type": "stream",
          "name": "stderr",
          "text": [
            "sampling loop time step:  13%|█▎        | 128/1000 [00:24<02:30,  5.79it/s]"
          ]
        },
        {
          "output_type": "stream",
          "name": "stdout",
          "text": [
            "this is model mean torch.Size([64, 3, 32, 32])\n",
            "this is posterior variance torch.Size([64, 1, 1, 1])\n",
            "torch.Size([64, 3, 32, 32])\n",
            "tensor([0, 0, 0, 0, 0, 0, 0, 0, 0, 0, 0, 0, 0, 0, 0, 0, 0, 0, 0, 0, 0, 0, 0, 0,\n",
            "        0, 0, 0, 9, 0, 0, 0, 0, 0, 0, 0, 0, 0, 0, 0, 0, 0, 0, 0, 0, 0, 0, 0, 0,\n",
            "        0, 0, 0, 0, 0, 0, 0, 0, 0, 0, 0, 0, 0, 0, 0, 0], device='cuda:0')\n",
            "this is model mean torch.Size([64, 3, 32, 32])\n",
            "this is posterior variance torch.Size([64, 1, 1, 1])\n",
            "torch.Size([64, 3, 32, 32])\n",
            "tensor([0, 0, 0, 0, 0, 0, 0, 0, 0, 0, 0, 0, 0, 0, 0, 0, 0, 0, 0, 0, 0, 0, 0, 0,\n",
            "        0, 0, 0, 0, 0, 0, 0, 0, 0, 0, 0, 0, 0, 0, 0, 0, 0, 0, 0, 0, 0, 0, 0, 0,\n",
            "        0, 0, 0, 0, 0, 0, 0, 0, 0, 0, 0, 0, 0, 0, 0, 0], device='cuda:0')\n"
          ]
        },
        {
          "output_type": "stream",
          "name": "stderr",
          "text": [
            "sampling loop time step:  13%|█▎        | 130/1000 [00:25<02:29,  5.82it/s]"
          ]
        },
        {
          "output_type": "stream",
          "name": "stdout",
          "text": [
            "this is model mean torch.Size([64, 3, 32, 32])\n",
            "this is posterior variance torch.Size([64, 1, 1, 1])\n",
            "torch.Size([64, 3, 32, 32])\n",
            "tensor([0, 0, 0, 0, 0, 9, 0, 0, 0, 0, 0, 0, 0, 0, 0, 0, 0, 0, 0, 0, 0, 0, 0, 0,\n",
            "        0, 0, 0, 0, 0, 0, 0, 0, 0, 0, 0, 0, 0, 0, 0, 0, 0, 0, 0, 0, 1, 0, 0, 0,\n",
            "        0, 0, 0, 0, 0, 0, 0, 0, 0, 0, 0, 0, 0, 0, 0, 0], device='cuda:0')\n",
            "this is model mean torch.Size([64, 3, 32, 32])\n",
            "this is posterior variance torch.Size([64, 1, 1, 1])\n",
            "torch.Size([64, 3, 32, 32])\n",
            "tensor([0, 0, 0, 0, 0, 0, 0, 0, 0, 0, 0, 0, 0, 0, 0, 0, 0, 0, 0, 0, 0, 0, 0, 0,\n",
            "        0, 0, 0, 0, 0, 0, 0, 0, 0, 0, 0, 0, 0, 0, 0, 0, 0, 0, 9, 0, 0, 0, 0, 0,\n",
            "        0, 0, 0, 1, 0, 0, 0, 0, 0, 0, 0, 0, 0, 0, 0, 0], device='cuda:0')\n"
          ]
        },
        {
          "output_type": "stream",
          "name": "stderr",
          "text": [
            "sampling loop time step:  13%|█▎        | 132/1000 [00:25<02:29,  5.81it/s]"
          ]
        },
        {
          "output_type": "stream",
          "name": "stdout",
          "text": [
            "this is model mean torch.Size([64, 3, 32, 32])\n",
            "this is posterior variance torch.Size([64, 1, 1, 1])\n",
            "torch.Size([64, 3, 32, 32])\n",
            "tensor([0, 0, 0, 0, 0, 0, 0, 0, 0, 0, 0, 0, 0, 0, 0, 0, 0, 0, 0, 0, 0, 0, 0, 3,\n",
            "        0, 0, 0, 0, 0, 0, 0, 0, 0, 0, 0, 0, 0, 0, 0, 0, 0, 0, 1, 0, 0, 0, 0, 0,\n",
            "        0, 0, 0, 1, 0, 0, 0, 0, 9, 0, 0, 0, 0, 0, 0, 0], device='cuda:0')\n",
            "this is model mean torch.Size([64, 3, 32, 32])\n",
            "this is posterior variance torch.Size([64, 1, 1, 1])\n",
            "torch.Size([64, 3, 32, 32])\n",
            "tensor([0, 0, 0, 0, 0, 0, 0, 0, 0, 0, 0, 0, 0, 0, 0, 0, 0, 0, 0, 0, 0, 0, 0, 0,\n",
            "        0, 0, 0, 0, 0, 0, 0, 0, 0, 0, 0, 0, 0, 0, 0, 0, 0, 0, 0, 0, 0, 0, 3, 0,\n",
            "        0, 0, 0, 0, 0, 0, 0, 0, 9, 0, 0, 0, 0, 0, 0, 0], device='cuda:0')\n"
          ]
        },
        {
          "output_type": "stream",
          "name": "stderr",
          "text": [
            "sampling loop time step:  13%|█▎        | 134/1000 [00:25<02:29,  5.80it/s]"
          ]
        },
        {
          "output_type": "stream",
          "name": "stdout",
          "text": [
            "this is model mean torch.Size([64, 3, 32, 32])\n",
            "this is posterior variance torch.Size([64, 1, 1, 1])\n",
            "torch.Size([64, 3, 32, 32])\n",
            "tensor([0, 0, 0, 0, 0, 0, 0, 0, 0, 0, 0, 0, 0, 0, 0, 0, 0, 0, 0, 0, 0, 0, 0, 0,\n",
            "        0, 0, 0, 0, 0, 0, 0, 0, 0, 0, 0, 0, 0, 0, 0, 0, 0, 0, 0, 0, 0, 0, 0, 0,\n",
            "        0, 0, 0, 0, 0, 0, 0, 0, 0, 0, 0, 0, 0, 0, 0, 0], device='cuda:0')\n",
            "this is model mean torch.Size([64, 3, 32, 32])\n",
            "this is posterior variance torch.Size([64, 1, 1, 1])\n",
            "torch.Size([64, 3, 32, 32])\n",
            "tensor([0, 0, 0, 0, 0, 0, 0, 0, 0, 0, 0, 0, 0, 0, 0, 0, 2, 0, 0, 0, 0, 0, 0, 0,\n",
            "        0, 0, 0, 0, 0, 0, 0, 0, 0, 0, 0, 0, 0, 0, 0, 0, 0, 0, 0, 0, 0, 0, 0, 0,\n",
            "        0, 0, 0, 0, 0, 0, 0, 0, 0, 0, 0, 0, 0, 0, 0, 0], device='cuda:0')\n"
          ]
        },
        {
          "output_type": "stream",
          "name": "stderr",
          "text": [
            "sampling loop time step:  14%|█▎        | 136/1000 [00:26<02:30,  5.75it/s]"
          ]
        },
        {
          "output_type": "stream",
          "name": "stdout",
          "text": [
            "this is model mean torch.Size([64, 3, 32, 32])\n",
            "this is posterior variance torch.Size([64, 1, 1, 1])\n",
            "torch.Size([64, 3, 32, 32])\n",
            "tensor([0, 0, 0, 0, 0, 0, 0, 0, 0, 0, 0, 0, 0, 0, 0, 0, 0, 0, 0, 0, 0, 0, 0, 0,\n",
            "        0, 0, 0, 0, 0, 0, 0, 0, 0, 0, 0, 0, 0, 0, 0, 0, 0, 0, 0, 0, 0, 0, 0, 0,\n",
            "        0, 0, 0, 0, 0, 0, 0, 0, 0, 0, 0, 0, 0, 0, 0, 0], device='cuda:0')\n",
            "this is model mean torch.Size([64, 3, 32, 32])\n",
            "this is posterior variance torch.Size([64, 1, 1, 1])\n",
            "torch.Size([64, 3, 32, 32])\n",
            "tensor([0, 0, 0, 0, 0, 0, 0, 0, 0, 0, 0, 0, 0, 0, 0, 0, 0, 0, 0, 0, 0, 0, 0, 0,\n",
            "        0, 0, 0, 0, 0, 0, 0, 0, 0, 0, 0, 0, 0, 0, 9, 0, 0, 0, 0, 0, 0, 0, 0, 0,\n",
            "        0, 0, 0, 0, 0, 0, 0, 0, 0, 0, 0, 0, 0, 0, 0, 0], device='cuda:0')\n"
          ]
        },
        {
          "output_type": "stream",
          "name": "stderr",
          "text": [
            "sampling loop time step:  14%|█▍        | 138/1000 [00:26<02:31,  5.71it/s]"
          ]
        },
        {
          "output_type": "stream",
          "name": "stdout",
          "text": [
            "this is model mean torch.Size([64, 3, 32, 32])\n",
            "this is posterior variance torch.Size([64, 1, 1, 1])\n",
            "torch.Size([64, 3, 32, 32])\n",
            "tensor([0, 0, 0, 0, 0, 0, 0, 0, 0, 0, 0, 0, 0, 0, 0, 0, 0, 0, 0, 0, 0, 0, 0, 0,\n",
            "        0, 0, 0, 0, 0, 0, 0, 0, 0, 0, 0, 0, 0, 0, 0, 0, 0, 0, 0, 0, 0, 0, 0, 0,\n",
            "        0, 0, 0, 0, 0, 0, 0, 0, 0, 0, 0, 0, 0, 0, 0, 0], device='cuda:0')\n",
            "this is model mean torch.Size([64, 3, 32, 32])\n",
            "this is posterior variance torch.Size([64, 1, 1, 1])\n",
            "torch.Size([64, 3, 32, 32])\n",
            "tensor([0, 0, 0, 0, 0, 0, 0, 0, 0, 0, 0, 0, 0, 0, 0, 0, 0, 0, 0, 0, 0, 0, 0, 0,\n",
            "        0, 0, 0, 0, 0, 0, 0, 0, 0, 0, 0, 0, 0, 0, 0, 0, 0, 0, 0, 0, 0, 0, 0, 0,\n",
            "        0, 0, 0, 0, 0, 0, 0, 0, 0, 0, 0, 0, 0, 0, 0, 0], device='cuda:0')\n"
          ]
        },
        {
          "output_type": "stream",
          "name": "stderr",
          "text": [
            "sampling loop time step:  14%|█▍        | 140/1000 [00:26<02:30,  5.70it/s]"
          ]
        },
        {
          "output_type": "stream",
          "name": "stdout",
          "text": [
            "this is model mean torch.Size([64, 3, 32, 32])\n",
            "this is posterior variance torch.Size([64, 1, 1, 1])\n",
            "torch.Size([64, 3, 32, 32])\n",
            "tensor([0, 0, 0, 0, 0, 0, 0, 0, 0, 0, 0, 0, 0, 0, 0, 0, 0, 0, 0, 0, 0, 0, 0, 0,\n",
            "        0, 0, 0, 0, 0, 0, 0, 0, 0, 0, 0, 0, 0, 0, 0, 0, 0, 0, 0, 0, 0, 0, 0, 0,\n",
            "        0, 0, 0, 0, 0, 0, 0, 0, 0, 0, 0, 0, 0, 0, 0, 0], device='cuda:0')\n",
            "this is model mean torch.Size([64, 3, 32, 32])\n",
            "this is posterior variance torch.Size([64, 1, 1, 1])\n",
            "torch.Size([64, 3, 32, 32])\n",
            "tensor([0, 0, 0, 0, 0, 0, 0, 0, 0, 0, 0, 0, 0, 2, 0, 0, 0, 0, 0, 0, 0, 0, 0, 0,\n",
            "        0, 0, 0, 0, 0, 0, 0, 0, 0, 0, 0, 0, 0, 0, 0, 0, 0, 0, 0, 0, 0, 0, 0, 0,\n",
            "        0, 0, 0, 0, 0, 0, 0, 0, 0, 0, 0, 0, 0, 0, 0, 0], device='cuda:0')\n"
          ]
        },
        {
          "output_type": "stream",
          "name": "stderr",
          "text": [
            "sampling loop time step:  14%|█▍        | 142/1000 [00:27<02:30,  5.69it/s]"
          ]
        },
        {
          "output_type": "stream",
          "name": "stdout",
          "text": [
            "this is model mean torch.Size([64, 3, 32, 32])\n",
            "this is posterior variance torch.Size([64, 1, 1, 1])\n",
            "torch.Size([64, 3, 32, 32])\n",
            "tensor([0, 0, 0, 0, 0, 0, 0, 0, 0, 0, 0, 0, 0, 1, 0, 0, 0, 0, 0, 0, 0, 0, 0, 0,\n",
            "        0, 0, 0, 0, 0, 0, 0, 0, 0, 0, 0, 0, 0, 0, 0, 0, 0, 0, 0, 0, 0, 0, 0, 0,\n",
            "        0, 0, 0, 0, 0, 0, 0, 0, 0, 0, 0, 0, 0, 0, 0, 0], device='cuda:0')\n",
            "this is model mean torch.Size([64, 3, 32, 32])\n",
            "this is posterior variance torch.Size([64, 1, 1, 1])\n",
            "torch.Size([64, 3, 32, 32])\n",
            "tensor([0, 0, 0, 0, 0, 0, 0, 0, 0, 0, 0, 0, 0, 9, 0, 0, 0, 0, 0, 0, 0, 0, 0, 0,\n",
            "        0, 0, 0, 0, 0, 0, 0, 0, 0, 0, 0, 0, 0, 0, 0, 0, 0, 0, 0, 0, 0, 0, 2, 0,\n",
            "        0, 0, 0, 0, 0, 0, 0, 0, 0, 0, 0, 0, 0, 0, 0, 0], device='cuda:0')\n"
          ]
        },
        {
          "output_type": "stream",
          "name": "stderr",
          "text": [
            "sampling loop time step:  14%|█▍        | 144/1000 [00:27<02:29,  5.72it/s]"
          ]
        },
        {
          "output_type": "stream",
          "name": "stdout",
          "text": [
            "this is model mean torch.Size([64, 3, 32, 32])\n",
            "this is posterior variance torch.Size([64, 1, 1, 1])\n",
            "torch.Size([64, 3, 32, 32])\n",
            "tensor([0, 0, 0, 0, 0, 0, 0, 0, 0, 0, 0, 0, 0, 0, 0, 0, 0, 0, 0, 0, 0, 0, 0, 0,\n",
            "        0, 0, 0, 0, 0, 0, 0, 0, 0, 0, 0, 0, 0, 0, 0, 0, 0, 0, 0, 0, 0, 0, 0, 0,\n",
            "        0, 0, 0, 0, 0, 0, 0, 0, 0, 0, 0, 0, 0, 0, 0, 0], device='cuda:0')\n",
            "this is model mean torch.Size([64, 3, 32, 32])\n",
            "this is posterior variance torch.Size([64, 1, 1, 1])\n",
            "torch.Size([64, 3, 32, 32])\n",
            "tensor([0, 0, 0, 0, 0, 0, 0, 0, 0, 0, 0, 0, 0, 0, 0, 0, 0, 0, 0, 0, 0, 0, 0, 0,\n",
            "        0, 0, 0, 0, 0, 0, 0, 0, 0, 0, 0, 0, 0, 0, 0, 0, 0, 0, 0, 0, 0, 0, 0, 0,\n",
            "        0, 0, 0, 0, 0, 0, 0, 0, 0, 0, 0, 0, 0, 0, 0, 0], device='cuda:0')\n"
          ]
        },
        {
          "output_type": "stream",
          "name": "stderr",
          "text": [
            "sampling loop time step:  15%|█▍        | 146/1000 [00:27<02:29,  5.70it/s]"
          ]
        },
        {
          "output_type": "stream",
          "name": "stdout",
          "text": [
            "this is model mean torch.Size([64, 3, 32, 32])\n",
            "this is posterior variance torch.Size([64, 1, 1, 1])\n",
            "torch.Size([64, 3, 32, 32])\n",
            "tensor([0, 0, 0, 0, 0, 0, 0, 0, 0, 0, 0, 0, 0, 0, 0, 0, 0, 0, 0, 0, 0, 0, 0, 0,\n",
            "        0, 0, 0, 0, 1, 0, 0, 0, 0, 0, 0, 0, 0, 0, 0, 0, 0, 0, 0, 0, 0, 0, 0, 0,\n",
            "        0, 0, 0, 9, 0, 0, 0, 0, 0, 0, 0, 0, 0, 0, 0, 0], device='cuda:0')\n",
            "this is model mean torch.Size([64, 3, 32, 32])\n",
            "this is posterior variance torch.Size([64, 1, 1, 1])\n",
            "torch.Size([64, 3, 32, 32])\n",
            "tensor([0, 0, 0, 0, 0, 0, 0, 0, 0, 0, 0, 0, 0, 0, 0, 0, 0, 0, 0, 0, 0, 0, 0, 0,\n",
            "        0, 0, 0, 0, 1, 0, 0, 0, 0, 0, 0, 0, 0, 0, 0, 0, 0, 0, 0, 0, 0, 0, 0, 0,\n",
            "        0, 0, 0, 0, 0, 0, 0, 0, 0, 0, 0, 0, 0, 0, 0, 0], device='cuda:0')\n"
          ]
        },
        {
          "output_type": "stream",
          "name": "stderr",
          "text": [
            "sampling loop time step:  15%|█▍        | 148/1000 [00:28<02:30,  5.64it/s]"
          ]
        },
        {
          "output_type": "stream",
          "name": "stdout",
          "text": [
            "this is model mean torch.Size([64, 3, 32, 32])\n",
            "this is posterior variance torch.Size([64, 1, 1, 1])\n",
            "torch.Size([64, 3, 32, 32])\n",
            "tensor([0, 0, 0, 0, 0, 0, 0, 0, 0, 0, 0, 0, 0, 0, 0, 0, 0, 0, 0, 0, 0, 0, 0, 0,\n",
            "        0, 0, 0, 0, 0, 0, 0, 0, 0, 0, 0, 0, 0, 0, 0, 0, 0, 0, 0, 0, 0, 0, 0, 0,\n",
            "        0, 0, 0, 0, 0, 0, 0, 0, 0, 0, 0, 0, 0, 0, 0, 0], device='cuda:0')\n",
            "this is model mean torch.Size([64, 3, 32, 32])\n",
            "this is posterior variance torch.Size([64, 1, 1, 1])\n",
            "torch.Size([64, 3, 32, 32])\n",
            "tensor([0, 0, 0, 0, 0, 0, 0, 0, 0, 0, 0, 0, 0, 0, 0, 0, 0, 0, 0, 0, 0, 0, 0, 0,\n",
            "        0, 0, 0, 0, 0, 0, 0, 0, 0, 0, 0, 0, 0, 0, 0, 0, 0, 0, 0, 0, 0, 0, 0, 0,\n",
            "        0, 0, 0, 0, 0, 0, 0, 0, 0, 0, 0, 0, 0, 0, 0, 0], device='cuda:0')"
          ]
        },
        {
          "output_type": "stream",
          "name": "stderr",
          "text": [
            "\rsampling loop time step:  15%|█▍        | 149/1000 [00:28<02:32,  5.59it/s]"
          ]
        },
        {
          "output_type": "stream",
          "name": "stdout",
          "text": [
            "\n",
            "this is model mean torch.Size([64, 3, 32, 32])\n",
            "this is posterior variance torch.Size([64, 1, 1, 1])\n",
            "torch.Size([64, 3, 32, 32])\n",
            "tensor([0, 0, 0, 0, 0, 0, 0, 0, 0, 0, 0, 0, 0, 0, 0, 0, 0, 0, 0, 0, 0, 0, 0, 0,\n",
            "        0, 0, 0, 0, 0, 0, 0, 0, 0, 0, 0, 0, 0, 0, 0, 0, 1, 0, 0, 0, 0, 0, 0, 0,\n",
            "        0, 0, 0, 0, 0, 0, 0, 0, 0, 0, 0, 0, 0, 0, 0, 0], device='cuda:0')\n"
          ]
        },
        {
          "output_type": "stream",
          "name": "stderr",
          "text": [
            "sampling loop time step:  15%|█▌        | 151/1000 [00:28<02:33,  5.51it/s]"
          ]
        },
        {
          "output_type": "stream",
          "name": "stdout",
          "text": [
            "this is model mean torch.Size([64, 3, 32, 32])\n",
            "this is posterior variance torch.Size([64, 1, 1, 1])\n",
            "torch.Size([64, 3, 32, 32])\n",
            "tensor([0, 0, 0, 0, 0, 0, 0, 0, 0, 0, 0, 0, 0, 0, 0, 0, 0, 0, 0, 0, 0, 0, 0, 0,\n",
            "        0, 0, 0, 0, 0, 0, 0, 0, 0, 0, 0, 0, 0, 0, 0, 0, 0, 0, 0, 0, 0, 0, 0, 0,\n",
            "        0, 0, 0, 0, 0, 0, 0, 0, 0, 0, 0, 0, 0, 0, 0, 0], device='cuda:0')\n",
            "this is model mean torch.Size([64, 3, 32, 32])\n",
            "this is posterior variance torch.Size([64, 1, 1, 1])\n",
            "torch.Size([64, 3, 32, 32])\n"
          ]
        },
        {
          "output_type": "stream",
          "name": "stderr",
          "text": [
            "sampling loop time step:  15%|█▌        | 153/1000 [00:29<02:33,  5.52it/s]"
          ]
        },
        {
          "output_type": "stream",
          "name": "stdout",
          "text": [
            "tensor([0, 0, 0, 0, 0, 0, 0, 0, 0, 0, 0, 0, 0, 0, 0, 0, 0, 0, 0, 0, 0, 0, 0, 0,\n",
            "        0, 0, 0, 0, 0, 0, 0, 0, 0, 0, 0, 0, 0, 0, 0, 0, 0, 0, 0, 0, 0, 0, 0, 0,\n",
            "        0, 0, 0, 0, 0, 0, 0, 0, 0, 0, 0, 0, 0, 0, 0, 0], device='cuda:0')\n",
            "this is model mean torch.Size([64, 3, 32, 32])\n",
            "this is posterior variance torch.Size([64, 1, 1, 1])\n",
            "torch.Size([64, 3, 32, 32])\n",
            "tensor([0, 0, 0, 0, 0, 0, 0, 0, 0, 0, 0, 0, 0, 0, 0, 0, 0, 0, 0, 0, 0, 0, 0, 0,\n",
            "        0, 0, 0, 0, 0, 0, 0, 0, 0, 0, 0, 0, 0, 0, 0, 0, 0, 0, 0, 0, 0, 0, 0, 0,\n",
            "        0, 0, 0, 0, 0, 0, 0, 0, 0, 0, 0, 0, 0, 0, 0, 0], device='cuda:0')\n"
          ]
        },
        {
          "output_type": "stream",
          "name": "stderr",
          "text": [
            "\rsampling loop time step:  15%|█▌        | 154/1000 [00:29<02:31,  5.57it/s]"
          ]
        },
        {
          "output_type": "stream",
          "name": "stdout",
          "text": [
            "this is model mean torch.Size([64, 3, 32, 32])\n",
            "this is posterior variance torch.Size([64, 1, 1, 1])\n",
            "torch.Size([64, 3, 32, 32])\n",
            "tensor([0, 0, 0, 0, 9, 0, 0, 0, 0, 0, 0, 0, 0, 0, 0, 0, 0, 0, 0, 0, 2, 0, 0, 0,\n",
            "        0, 0, 0, 0, 0, 0, 0, 0, 0, 0, 0, 0, 0, 0, 0, 0, 0, 0, 0, 0, 0, 0, 0, 0,\n",
            "        0, 0, 0, 0, 0, 0, 0, 0, 0, 0, 0, 0, 0, 0, 0, 0], device='cuda:0')\n",
            "this is model mean torch.Size([64, 3, 32, 32])\n",
            "this is posterior variance torch.Size([64, 1, 1, 1])\n",
            "torch.Size([64, 3, 32, 32])\n",
            "tensor([0, 0, 0, 0, 0, 0, 0, 0, 0, 0, 0, 0, 0, 0, 0, 0, 0, 0, 0, 0, 1, 0, 0, 0,\n",
            "        0, 0, 0, 0, 0, 0, 0, 0, 0, 0, 0, 0, 0, 0, 0, 0, 0, 0, 0, 0, 0, 0, 0, 0,\n",
            "        0, 0, 0, 0, 0, 0, 0, 0, 0, 0, 0, 0, 0, 0, 0, 0], device='cuda:0')\n"
          ]
        },
        {
          "output_type": "stream",
          "name": "stderr",
          "text": [
            "sampling loop time step:  16%|█▌        | 156/1000 [00:29<02:29,  5.66it/s]"
          ]
        },
        {
          "output_type": "stream",
          "name": "stdout",
          "text": [
            "this is model mean torch.Size([64, 3, 32, 32])\n",
            "this is posterior variance torch.Size([64, 1, 1, 1])\n",
            "torch.Size([64, 3, 32, 32])\n",
            "tensor([0, 0, 0, 0, 0, 0, 0, 0, 0, 0, 0, 0, 0, 0, 0, 0, 0, 0, 0, 0, 0, 0, 0, 0,\n",
            "        0, 0, 0, 0, 0, 0, 0, 0, 0, 0, 0, 0, 0, 0, 0, 0, 0, 0, 0, 0, 0, 0, 0, 0,\n",
            "        0, 0, 0, 0, 0, 0, 0, 0, 0, 0, 0, 0, 0, 0, 0, 0], device='cuda:0')\n",
            "this is model mean torch.Size([64, 3, 32, 32])\n",
            "this is posterior variance torch.Size([64, 1, 1, 1])\n",
            "torch.Size([64, 3, 32, 32])\n",
            "tensor([0, 0, 0, 0, 0, 0, 0, 0, 0, 0, 0, 0, 0, 0, 0, 0, 0, 0, 0, 0, 0, 0, 0, 0,\n",
            "        0, 0, 0, 0, 0, 0, 0, 0, 0, 0, 0, 0, 0, 0, 0, 0, 0, 0, 0, 0, 0, 0, 0, 0,\n",
            "        0, 0, 0, 0, 0, 0, 0, 0, 0, 0, 0, 3, 0, 0, 0, 0], device='cuda:0')\n"
          ]
        },
        {
          "output_type": "stream",
          "name": "stderr",
          "text": [
            "sampling loop time step:  16%|█▌        | 158/1000 [00:29<02:27,  5.73it/s]"
          ]
        },
        {
          "output_type": "stream",
          "name": "stdout",
          "text": [
            "this is model mean torch.Size([64, 3, 32, 32])\n",
            "this is posterior variance torch.Size([64, 1, 1, 1])\n",
            "torch.Size([64, 3, 32, 32])\n",
            "tensor([0, 0, 0, 0, 0, 0, 0, 0, 9, 0, 0, 0, 0, 0, 0, 0, 0, 0, 0, 0, 0, 0, 0, 0,\n",
            "        0, 0, 0, 0, 0, 0, 0, 0, 0, 0, 0, 0, 0, 0, 0, 0, 0, 0, 0, 0, 0, 0, 0, 0,\n",
            "        0, 0, 0, 0, 0, 0, 0, 0, 0, 0, 0, 9, 0, 0, 0, 0], device='cuda:0')\n",
            "this is model mean torch.Size([64, 3, 32, 32])\n",
            "this is posterior variance torch.Size([64, 1, 1, 1])\n",
            "torch.Size([64, 3, 32, 32])\n",
            "tensor([0, 0, 0, 0, 0, 0, 0, 0, 0, 0, 0, 0, 0, 0, 0, 0, 0, 0, 0, 0, 0, 0, 0, 0,\n",
            "        0, 0, 0, 0, 0, 0, 0, 0, 0, 0, 0, 0, 0, 0, 0, 0, 0, 0, 0, 0, 0, 0, 0, 0,\n",
            "        0, 0, 0, 0, 0, 0, 0, 0, 0, 0, 0, 1, 0, 0, 0, 0], device='cuda:0')\n"
          ]
        },
        {
          "output_type": "stream",
          "name": "stderr",
          "text": [
            "sampling loop time step:  16%|█▌        | 160/1000 [00:30<02:26,  5.74it/s]"
          ]
        },
        {
          "output_type": "stream",
          "name": "stdout",
          "text": [
            "this is model mean torch.Size([64, 3, 32, 32])\n",
            "this is posterior variance torch.Size([64, 1, 1, 1])\n",
            "torch.Size([64, 3, 32, 32])\n",
            "tensor([0, 0, 0, 0, 0, 0, 0, 0, 0, 0, 0, 0, 0, 0, 0, 0, 0, 0, 0, 0, 0, 0, 0, 0,\n",
            "        0, 0, 0, 0, 0, 0, 0, 0, 0, 0, 0, 0, 0, 0, 0, 0, 0, 0, 0, 0, 0, 0, 0, 0,\n",
            "        0, 0, 0, 0, 0, 0, 0, 0, 0, 0, 0, 0, 0, 0, 0, 0], device='cuda:0')\n",
            "this is model mean torch.Size([64, 3, 32, 32])\n",
            "this is posterior variance torch.Size([64, 1, 1, 1])\n",
            "torch.Size([64, 3, 32, 32])\n",
            "tensor([0, 0, 0, 0, 0, 0, 0, 0, 0, 0, 0, 0, 0, 0, 9, 0, 0, 0, 0, 0, 0, 0, 0, 0,\n",
            "        0, 0, 0, 0, 0, 0, 0, 0, 0, 0, 0, 0, 0, 0, 0, 0, 0, 0, 0, 0, 0, 0, 0, 0,\n",
            "        0, 0, 0, 0, 0, 0, 0, 0, 0, 0, 0, 0, 0, 0, 0, 0], device='cuda:0')\n"
          ]
        },
        {
          "output_type": "stream",
          "name": "stderr",
          "text": [
            "sampling loop time step:  16%|█▌        | 162/1000 [00:30<02:27,  5.68it/s]"
          ]
        },
        {
          "output_type": "stream",
          "name": "stdout",
          "text": [
            "this is model mean torch.Size([64, 3, 32, 32])\n",
            "this is posterior variance torch.Size([64, 1, 1, 1])\n",
            "torch.Size([64, 3, 32, 32])\n",
            "tensor([0, 0, 0, 0, 0, 0, 0, 0, 0, 0, 0, 0, 0, 0, 0, 0, 0, 0, 0, 0, 0, 0, 0, 0,\n",
            "        0, 0, 0, 0, 0, 0, 0, 0, 0, 0, 0, 0, 0, 0, 0, 0, 0, 0, 0, 0, 0, 0, 0, 0,\n",
            "        0, 0, 0, 0, 0, 0, 0, 0, 0, 0, 0, 0, 0, 0, 0, 0], device='cuda:0')\n",
            "this is model mean torch.Size([64, 3, 32, 32])\n",
            "this is posterior variance torch.Size([64, 1, 1, 1])\n",
            "torch.Size([64, 3, 32, 32])\n",
            "tensor([0, 0, 0, 0, 0, 0, 0, 0, 0, 0, 0, 0, 0, 0, 0, 0, 0, 0, 0, 0, 0, 0, 0, 0,\n",
            "        0, 0, 0, 0, 0, 0, 0, 0, 0, 0, 0, 0, 0, 0, 0, 0, 0, 0, 0, 0, 0, 0, 0, 0,\n",
            "        0, 0, 0, 0, 0, 0, 0, 0, 0, 0, 0, 0, 0, 0, 0, 0], device='cuda:0')\n"
          ]
        },
        {
          "output_type": "stream",
          "name": "stderr",
          "text": [
            "sampling loop time step:  16%|█▋        | 164/1000 [00:31<02:28,  5.63it/s]"
          ]
        },
        {
          "output_type": "stream",
          "name": "stdout",
          "text": [
            "this is model mean torch.Size([64, 3, 32, 32])\n",
            "this is posterior variance torch.Size([64, 1, 1, 1])\n",
            "torch.Size([64, 3, 32, 32])\n",
            "tensor([0, 0, 9, 0, 0, 0, 0, 0, 0, 0, 0, 1, 0, 0, 0, 0, 0, 0, 0, 0, 0, 0, 0, 0,\n",
            "        0, 0, 0, 0, 0, 0, 0, 0, 9, 0, 0, 0, 0, 0, 0, 0, 0, 0, 0, 0, 0, 0, 0, 0,\n",
            "        0, 0, 0, 0, 0, 0, 0, 0, 0, 0, 0, 0, 0, 0, 0, 0], device='cuda:0')\n",
            "this is model mean torch.Size([64, 3, 32, 32])\n",
            "this is posterior variance torch.Size([64, 1, 1, 1])\n",
            "torch.Size([64, 3, 32, 32])\n"
          ]
        },
        {
          "output_type": "stream",
          "name": "stderr",
          "text": [
            "\rsampling loop time step:  16%|█▋        | 165/1000 [00:31<02:29,  5.58it/s]"
          ]
        }
      ],
      "source": [
        "generated_images = my_gaussian_diffusion.sample(model, 32, batch_size=64, channels=3)"
      ]
    },
    {
      "cell_type": "code",
      "execution_count": null,
      "metadata": {
        "id": "jpdt_K90jHnn"
      },
      "outputs": [],
      "source": [
        "# generate new images(actually some examples from the the results got by other people)\n",
        "fig = plt.figure(figsize=(12, 12), constrained_layout=True)\n",
        "gs = fig.add_gridspec(8, 8)\n",
        "\n",
        "imgs = generated_images[-1].reshape(8, 8, 3, 32, 32)\n",
        "for n_row in range(8):\n",
        "    for n_col in range(8):\n",
        "        f_ax = fig.add_subplot(gs[n_row, n_col])\n",
        "        img = np.array((imgs[n_row, n_col].transpose([1, 2, 0])+1.0) * 255 / 2, dtype=np.uint8)\n",
        "        f_ax.imshow(img)\n",
        "        f_ax.axis(\"off\")"
      ]
    },
    {
      "cell_type": "code",
      "source": [
        "#print(generated_images[-1])\n",
        "labels=classifier(torch.tensor(generated_images[-1]).to('cuda'))\n",
        "_, predicted = torch.max(labels, 1)\n",
        "print(predicted)"
      ],
      "metadata": {
        "id": "ZmUad3QXQrU2"
      },
      "execution_count": null,
      "outputs": []
    },
    {
      "cell_type": "code",
      "source": [
        "my_gaussian_diffusion2 = GaussianDiffusion(timesteps=1000,beta_schedule='linear',label=4,classifier=classifier)"
      ],
      "metadata": {
        "id": "YuR10U0PR1pj"
      },
      "execution_count": null,
      "outputs": []
    },
    {
      "cell_type": "code",
      "source": [
        "generated_images2 = my_gaussian_diffusion2.sample(model, 32, batch_size=64, channels=3)"
      ],
      "metadata": {
        "id": "-yFDZ9MkR3i3"
      },
      "execution_count": null,
      "outputs": []
    },
    {
      "cell_type": "code",
      "source": [
        "# generate new images(actually some examples from the the results got by other people)\n",
        "fig = plt.figure(figsize=(12, 12), constrained_layout=True)\n",
        "gs = fig.add_gridspec(8, 8)\n",
        "\n",
        "imgs = generated_images2[-1].reshape(8, 8, 3, 32, 32)\n",
        "for n_row in range(8):\n",
        "    for n_col in range(8):\n",
        "        f_ax = fig.add_subplot(gs[n_row, n_col])\n",
        "        img = np.array((imgs[n_row, n_col].transpose([1, 2, 0])+1.0) * 255 / 2, dtype=np.uint8)\n",
        "        f_ax.imshow(img)\n",
        "        f_ax.axis(\"off\")"
      ],
      "metadata": {
        "id": "j_If1-_sR9V0"
      },
      "execution_count": null,
      "outputs": []
    },
    {
      "cell_type": "code",
      "source": [
        "#print(generated_images[-1])\n",
        "labels=classifier(torch.tensor(generated_images2[-1]).to('cuda'))\n",
        "_, predicted = torch.max(labels, 1)\n",
        "print(predicted)"
      ],
      "metadata": {
        "id": "XTjTA374R_n2"
      },
      "execution_count": null,
      "outputs": []
    },
    {
      "cell_type": "code",
      "source": [
        "my_gaussian_diffusion3 = GaussianDiffusion(timesteps=1000,beta_schedule='linear',label=2,classifier=classifier)"
      ],
      "metadata": {
        "id": "DpDv8Hrcb9Cx"
      },
      "execution_count": null,
      "outputs": []
    },
    {
      "cell_type": "code",
      "source": [
        "generated_images3 = my_gaussian_diffusion3.sample(model, 32, batch_size=64, channels=3)"
      ],
      "metadata": {
        "id": "UVH-6Yh7p2SP"
      },
      "execution_count": null,
      "outputs": []
    },
    {
      "cell_type": "code",
      "source": [
        "# generate new images(actually some examples from the the results got by other people)\n",
        "fig = plt.figure(figsize=(12, 12), constrained_layout=True)\n",
        "gs = fig.add_gridspec(8, 8)\n",
        "\n",
        "imgs = generated_images3[-1].reshape(8, 8, 3, 32, 32)\n",
        "for n_row in range(8):\n",
        "    for n_col in range(8):\n",
        "        f_ax = fig.add_subplot(gs[n_row, n_col])\n",
        "        img = np.array((imgs[n_row, n_col].transpose([1, 2, 0])+1.0) * 255 / 2, dtype=np.uint8)\n",
        "        f_ax.imshow(img)\n",
        "        f_ax.axis(\"off\")"
      ],
      "metadata": {
        "id": "V0HuftNcp9Ze"
      },
      "execution_count": null,
      "outputs": []
    },
    {
      "cell_type": "code",
      "source": [
        "labels=classifier(torch.tensor(generated_images3[-1]).to('cuda'))\n",
        "_, predicted = torch.max(labels, 1)\n",
        "print(predicted)"
      ],
      "metadata": {
        "id": "5swzvx-ewSSK"
      },
      "execution_count": null,
      "outputs": []
    },
    {
      "cell_type": "code",
      "source": [
        "my_gaussian_diffusion4 = GaussianDiffusion(timesteps=1000,beta_schedule='linear',label=3,classifier=classifier)"
      ],
      "metadata": {
        "id": "dsIGg2kBqCaD"
      },
      "execution_count": null,
      "outputs": []
    },
    {
      "cell_type": "code",
      "source": [
        "generated_images4 = my_gaussian_diffusion4.sample(model, 32, batch_size=64, channels=3)"
      ],
      "metadata": {
        "id": "i55mmndhqF6S"
      },
      "execution_count": null,
      "outputs": []
    },
    {
      "cell_type": "code",
      "source": [
        "# generate new images(actually some examples from the the results got by other people)\n",
        "fig = plt.figure(figsize=(12, 12), constrained_layout=True)\n",
        "gs = fig.add_gridspec(8, 8)\n",
        "\n",
        "imgs = generated_images4[-1].reshape(8, 8, 3, 32, 32)\n",
        "for n_row in range(8):\n",
        "    for n_col in range(8):\n",
        "        f_ax = fig.add_subplot(gs[n_row, n_col])\n",
        "        img = np.array((imgs[n_row, n_col].transpose([1, 2, 0])+1.0) * 255 / 2, dtype=np.uint8)\n",
        "        f_ax.imshow(img)\n",
        "        f_ax.axis(\"off\")"
      ],
      "metadata": {
        "id": "JM8vLvOLqIQh"
      },
      "execution_count": null,
      "outputs": []
    },
    {
      "cell_type": "code",
      "source": [
        "labels=classifier(torch.tensor(generated_images4[-1]).to('cuda'))\n",
        "_, predicted = torch.max(labels, 1)\n",
        "print(predicted)"
      ],
      "metadata": {
        "id": "eL7Efp8cwwtU"
      },
      "execution_count": null,
      "outputs": []
    },
    {
      "cell_type": "code",
      "execution_count": null,
      "metadata": {
        "id": "d2vV3QB_jKE4"
      },
      "outputs": [],
      "source": [
        "# show the denoise steps\n",
        "fig = plt.figure(figsize=(12, 12), constrained_layout=True)\n",
        "gs = fig.add_gridspec(16, 16)\n",
        "\n",
        "for n_row in range(16):\n",
        "    for n_col in range(16):\n",
        "        f_ax = fig.add_subplot(gs[n_row, n_col])\n",
        "        t_idx = (timesteps // 16) * n_col if n_col < 15 else -1\n",
        "        img = generated_images[t_idx][n_row].reshape(3, 32, 32).transpose([1, 2, 0])\n",
        "        f_ax.imshow(np.array((img+1.0) * 255 / 2, dtype=np.uint8))\n",
        "        f_ax.axis(\"off\")"
      ]
    }
  ],
  "metadata": {
    "accelerator": "GPU",
    "colab": {
      "provenance": []
    },
    "kernelspec": {
      "display_name": "Python 3",
      "name": "python3"
    },
    "language_info": {
      "name": "python"
    }
  },
  "nbformat": 4,
  "nbformat_minor": 0
}